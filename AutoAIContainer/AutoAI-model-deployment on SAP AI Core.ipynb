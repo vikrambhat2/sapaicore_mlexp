{
 "cells": [
  {
   "cell_type": "markdown",
   "id": "c50202c5",
   "metadata": {},
   "source": [
    "# Deploy Auto-AI model image on SAP AI CORE"
   ]
  },
  {
   "cell_type": "markdown",
   "id": "f1068890",
   "metadata": {},
   "source": [
    "The following cell installs the necessary Python libraries."
   ]
  },
  {
   "cell_type": "code",
   "execution_count": 2,
   "id": "66a8faf4",
   "metadata": {},
   "outputs": [
    {
     "name": "stdout",
     "output_type": "stream",
     "text": [
      "Requirement already satisfied: ai-core-sdk in /Users/vikrambhat/opt/anaconda3/lib/python3.9/site-packages (1.22.3)\n",
      "Requirement already satisfied: ai-api-client-sdk==1.28.0 in /Users/vikrambhat/opt/anaconda3/lib/python3.9/site-packages (from ai-core-sdk) (1.28.0)\n",
      "Requirement already satisfied: aenum~=3.1 in /Users/vikrambhat/opt/anaconda3/lib/python3.9/site-packages (from ai-api-client-sdk==1.28.0->ai-core-sdk) (3.1.15)\n",
      "Requirement already satisfied: pyhumps~=3.0 in /Users/vikrambhat/opt/anaconda3/lib/python3.9/site-packages (from ai-api-client-sdk==1.28.0->ai-core-sdk) (3.8.0)\n",
      "Requirement already satisfied: requests<3.0 in /Users/vikrambhat/opt/anaconda3/lib/python3.9/site-packages (from ai-api-client-sdk==1.28.0->ai-core-sdk) (2.27.1)\n",
      "Requirement already satisfied: urllib3<1.27,>=1.21.1 in /Users/vikrambhat/opt/anaconda3/lib/python3.9/site-packages (from requests<3.0->ai-api-client-sdk==1.28.0->ai-core-sdk) (1.26.9)\n",
      "Requirement already satisfied: certifi>=2017.4.17 in /Users/vikrambhat/opt/anaconda3/lib/python3.9/site-packages (from requests<3.0->ai-api-client-sdk==1.28.0->ai-core-sdk) (2021.10.8)\n",
      "Requirement already satisfied: charset-normalizer~=2.0.0 in /Users/vikrambhat/opt/anaconda3/lib/python3.9/site-packages (from requests<3.0->ai-api-client-sdk==1.28.0->ai-core-sdk) (2.0.4)\n",
      "Requirement already satisfied: idna<4,>=2.5 in /Users/vikrambhat/opt/anaconda3/lib/python3.9/site-packages (from requests<3.0->ai-api-client-sdk==1.28.0->ai-core-sdk) (2.10)\n",
      "Requirement already satisfied: python-dotenv in /Users/vikrambhat/opt/anaconda3/lib/python3.9/site-packages (1.0.0)\n"
     ]
    }
   ],
   "source": [
    "!pip install ai-core-sdk\n",
    "!pip install python-dotenv"
   ]
  },
  {
   "cell_type": "markdown",
   "id": "bb0fdbb8",
   "metadata": {},
   "source": [
    "Import the following libraries:"
   ]
  },
  {
   "cell_type": "code",
   "execution_count": 1,
   "id": "ab1614b7",
   "metadata": {},
   "outputs": [],
   "source": [
    "from ai_core_sdk.ai_core_v2_client import AICoreV2Client\n",
    "import os\n",
    "import requests"
   ]
  },
  {
   "cell_type": "markdown",
   "id": "376ef211",
   "metadata": {},
   "source": [
    "Below cell loads environment variables from the `.env` file located within the same folder"
   ]
  },
  {
   "cell_type": "code",
   "execution_count": 2,
   "id": "befbcf79",
   "metadata": {},
   "outputs": [
    {
     "data": {
      "text/plain": [
       "True"
      ]
     },
     "execution_count": 2,
     "metadata": {},
     "output_type": "execute_result"
    }
   ],
   "source": [
    "# Reads .env file from the same folder\n",
    "from dotenv import load_dotenv\n",
    "load_dotenv()\n"
   ]
  },
  {
   "cell_type": "markdown",
   "id": "8881e636",
   "metadata": {},
   "source": [
    "### Create SAP AI Core client\n",
    "Create SAP AI Core client by authenticating using the credentials stored in `.env` file"
   ]
  },
  {
   "cell_type": "code",
   "execution_count": 3,
   "id": "ecb3ba96",
   "metadata": {},
   "outputs": [],
   "source": [
    "ai_core_client = AICoreV2Client(\n",
    "# `AI_API_URL`\n",
    "   base_url = os.getenv(\"BASEURL\"),\n",
    "# `URL`\n",
    "   auth_url =  os.getenv(\"AUTHURL\"),\n",
    "# `clientid`\n",
    "  client_id = os.getenv(\"CLIENTID\"),\n",
    "# `clientsecret`\n",
    "  client_secret = os.getenv(\"CLIENTSECRET\")\n",
    ")"
   ]
  },
  {
   "cell_type": "markdown",
   "id": "f48e6f25",
   "metadata": {},
   "source": [
    "### List Resource Groups\n",
    "List all the resource groups in the sap ai core account "
   ]
  },
  {
   "cell_type": "code",
   "execution_count": 4,
   "id": "f2b3934d",
   "metadata": {},
   "outputs": [
    {
     "name": "stdout",
     "output_type": "stream",
     "text": [
      "{'resource_group_id': 'vikrambhat', 'labels': [], 'status': 'PROVISIONED', 'created_at': datetime.datetime(2023, 7, 4, 16, 5, 9)}\n",
      "{'resource_group_id': 'default', 'labels': [], 'status': 'PROVISIONED', 'created_at': datetime.datetime(2023, 6, 30, 9, 6, 9)}\n"
     ]
    }
   ],
   "source": [
    "response = ai_core_client.resource_groups.query()\n",
    "for app in response.resources:\n",
    "    print(app.__dict__)"
   ]
  },
  {
   "cell_type": "markdown",
   "id": "7689656d",
   "metadata": {},
   "source": [
    "## Add docker Registry\n",
    "\n",
    "Create a docker registry in the sap ai core account. This is required to pull images from docker container"
   ]
  },
  {
   "cell_type": "code",
   "execution_count": null,
   "id": "7efae573",
   "metadata": {},
   "outputs": [],
   "source": [
    "ai_core_client."
   ]
  },
  {
   "cell_type": "code",
   "execution_count": 5,
   "id": "23017dbf",
   "metadata": {},
   "outputs": [],
   "source": [
    "# read docker registry password stored in the .env file \n",
    "dockerregistrypassword=os.getenv(\"DOCKERREGISTRY\")"
   ]
  },
  {
   "cell_type": "code",
   "execution_count": 6,
   "id": "a04dbad1",
   "metadata": {},
   "outputs": [
    {
     "name": "stdout",
     "output_type": "stream",
     "text": [
      "{'message': 'Secret exists'}\n"
     ]
    }
   ],
   "source": [
    "response = ai_core_client.docker_registry_secrets.create(\n",
    "    name = \"vbrepo\",\n",
    "    data = {\n",
    "        \".dockerconfigjson\": \"{\\\"auths\\\":{\\\"https://index.docker.io\\\":{\\\"username\\\":\\\"vikrambhat2\\\",\\\"password\\\":\\\"\"+dockerregistrypassword+\"\\\"}}}\"\n",
    "    }\n",
    ")\n",
    "\n",
    "print(response.__dict__)\n"
   ]
  },
  {
   "cell_type": "markdown",
   "id": "2dea52a9",
   "metadata": {},
   "source": [
    "## Add Github Repo"
   ]
  },
  {
   "cell_type": "code",
   "execution_count": 7,
   "id": "1b6170c9",
   "metadata": {},
   "outputs": [],
   "source": [
    "# read github access token stored in the .env file \n",
    "github_access_token=os.getenv(\"GITHUBTOKEN\")"
   ]
  },
  {
   "cell_type": "code",
   "execution_count": null,
   "id": "81093deb",
   "metadata": {},
   "outputs": [],
   "source": [
    "ai_core_client.repositories.create(\n",
    "    name = \"vikram-aicore-github-pipelines\",\n",
    "    url = \"https://github.com/vikrambhat2/sapaicore_mlexp\",\n",
    "    username = \"vikrambhat2\",\n",
    "    password = github_access_token\n",
    ")"
   ]
  },
  {
   "cell_type": "markdown",
   "id": "9dc0843e",
   "metadata": {},
   "source": [
    "## Check github onboarding status"
   ]
  },
  {
   "cell_type": "code",
   "execution_count": 8,
   "id": "317ff2c5",
   "metadata": {},
   "outputs": [
    {
     "name": "stdout",
     "output_type": "stream",
     "text": [
      "Name: vikram-aicore-github-pipelines\n",
      "URL: https://github.com/vikrambhat2/sapaicore_mlexp\n",
      "Status: RepositoryStatus.COMPLETED\n"
     ]
    }
   ],
   "source": [
    "# check on-boarding status\n",
    "response = ai_core_client.repositories.query()\n",
    "#\n",
    "for repository in response.resources:\n",
    "    print('Name:', repository.name)\n",
    "    print('URL:', repository.url)\n",
    "    print('Status:', repository.status)"
   ]
  },
  {
   "cell_type": "markdown",
   "id": "0ac7a671",
   "metadata": {},
   "source": [
    "### Specify the folder containing yaml file"
   ]
  },
  {
   "cell_type": "code",
   "execution_count": 9,
   "id": "72ffc12d",
   "metadata": {},
   "outputs": [],
   "source": [
    "yaml_path=\"AUTOAIEXEC\""
   ]
  },
  {
   "cell_type": "markdown",
   "id": "140efafb",
   "metadata": {},
   "source": [
    "### Read execution file(yaml) and create an application"
   ]
  },
  {
   "cell_type": "code",
   "execution_count": 10,
   "id": "db5856fb",
   "metadata": {},
   "outputs": [
    {
     "data": {
      "text/plain": [
       "'Application has been successfully deleted.'"
      ]
     },
     "execution_count": 10,
     "metadata": {},
     "output_type": "execute_result"
    }
   ],
   "source": [
    "## Code to delete existing application\n",
    "res=ai_core_client.applications.delete(application_name=\"aicore-app-autoai\")\n",
    "res.message"
   ]
  },
  {
   "cell_type": "code",
   "execution_count": 11,
   "id": "55506f64",
   "metadata": {},
   "outputs": [
    {
     "data": {
      "text/plain": [
       "<ai_api_client_sdk.models.base_models.BasicResponse at 0x7fb4f93bad00>"
      ]
     },
     "execution_count": 11,
     "metadata": {},
     "output_type": "execute_result"
    }
   ],
   "source": [
    "github_app_name=\"aicore-app-autoai\"\n",
    "ai_core_client.applications.create(\n",
    "    application_name = github_app_name,\n",
    "    repository_url = \"https://github.com/vikrambhat2/sapaicore_mlexp\",\n",
    "    path = yaml_path,\n",
    "    revision = \"HEAD\"\n",
    ")\n"
   ]
  },
  {
   "cell_type": "code",
   "execution_count": 12,
   "id": "c96b8ce0",
   "metadata": {},
   "outputs": [
    {
     "name": "stdout",
     "output_type": "stream",
     "text": [
      "{'path': 'AUTOAIEXEC', 'revision': 'HEAD', 'repository_url': 'https://github.com/vikrambhat2/sapaicore_mlexp', 'application_name': 'aicore-app-autoai'}\n",
      "{'path': 'DemandResponse', 'revision': 'HEAD', 'repository_url': 'https://github.com/vikrambhat2/sapaicore_mlexp', 'application_name': 'aicore-app-scikit'}\n",
      "{'path': 'DemandResponseExec', 'revision': 'HEAD', 'repository_url': 'https://github.com/vikrambhat2/sapaicore_mlexp', 'application_name': 'aicore-app-vb'}\n"
     ]
    }
   ],
   "source": [
    "response = ai_core_client.applications.query()\n",
    "\n",
    "for app in response.resources:\n",
    "    print(app.__dict__)"
   ]
  },
  {
   "cell_type": "markdown",
   "id": "e3f1ce26",
   "metadata": {},
   "source": [
    "### Check if execution file sync is successful"
   ]
  },
  {
   "cell_type": "code",
   "execution_count": 13,
   "id": "7ff3cae3",
   "metadata": {},
   "outputs": [
    {
     "name": "stdout",
     "output_type": "stream",
     "text": [
      "{'name': 'auto-pipeline', 'kind': 'ServingTemplate', 'status': 'Synced', 'message': 'servingtemplate.ai.sap.com/auto-pipeline created'}\n",
      "{'health_status': 'Healthy', 'sync_status': 'Synced', 'message': 'successfully synced (all tasks run)', 'source': <ai_core_sdk.models.application_source.ApplicationSource object at 0x7fb4b87d0310>, 'sync_finished_at': '2023-09-21T10:50:42Z', 'sync_started_at': '2023-09-21T10:50:40Z', 'reconciled_at': '2023-09-21T10:50:43Z', 'sync_ressources_status': [<ai_core_sdk.models.application_resource_sync_status.ApplicationResourceSyncStatus object at 0x7fb4b87d5700>]}\n",
      "********************************************************************************\n",
      "{'name': 'auto-pipeline', 'kind': 'ServingTemplate', 'status': 'Synced', 'message': 'servingtemplate.ai.sap.com/auto-pipeline created'}\n"
     ]
    }
   ],
   "source": [
    "response = ai_core_client.applications.get_status(application_name=github_app_name)\n",
    "\n",
    "\n",
    "for workflow_sync_status in response.sync_ressources_status:\n",
    "    print(workflow_sync_status.__dict__)\n",
    "print(response.__dict__)\n",
    "print('*'*80)\n",
    "print(response.sync_ressources_status[0].__dict__)\n"
   ]
  },
  {
   "cell_type": "markdown",
   "id": "b38a136d",
   "metadata": {},
   "source": [
    "## Create Configuration"
   ]
  },
  {
   "cell_type": "code",
   "execution_count": 14,
   "id": "8b42b100",
   "metadata": {},
   "outputs": [],
   "source": [
    "exec_id=\"auto-pipeline\"\n",
    "scen_id=\"demandresponse-autoai\""
   ]
  },
  {
   "cell_type": "code",
   "execution_count": 15,
   "id": "8a25b265",
   "metadata": {},
   "outputs": [
    {
     "name": "stdout",
     "output_type": "stream",
     "text": [
      "{'id': '155c3ec9-af89-4aad-9fef-cbb2e01b52eb', 'message': 'Configuration created'}\n"
     ]
    }
   ],
   "source": [
    "from ai_core_sdk.models import InputArtifactBinding\n",
    "from ai_api_client_sdk.models.parameter_binding import ParameterBinding\n",
    "\n",
    "response = ai_core_client.configuration.create(\n",
    "    name = \"demandresponse-autoai-withaicore\",\n",
    "    resource_group = \"vikrambhat\",\n",
    "    scenario_id = scen_id, # value from workflow\n",
    "    executable_id = exec_id,\n",
    "#        input_artifact_bindings = [\n",
    "#        # list\n",
    "#        InputArtifactBinding(key=\"demandresponsemodel\", artifact_id =artifact_id), # Change artifact id\n",
    "#    ]\n",
    "\n",
    ")\n",
    "\n",
    "print(response.__dict__)"
   ]
  },
  {
   "cell_type": "code",
   "execution_count": 16,
   "id": "0d22946d",
   "metadata": {},
   "outputs": [],
   "source": [
    "conf_id=response.__dict__['id']"
   ]
  },
  {
   "cell_type": "code",
   "execution_count": 17,
   "id": "b7d6c627",
   "metadata": {
    "scrolled": true
   },
   "outputs": [
    {
     "name": "stdout",
     "output_type": "stream",
     "text": [
      "{'id': '155c3ec9-af89-4aad-9fef-cbb2e01b52eb', 'name': 'demandresponse-autoai-withaicore', 'scenario_id': 'demandresponse-autoai', 'executable_id': 'auto-pipeline', 'parameter_bindings': [], 'input_artifact_bindings': [], 'created_at': datetime.datetime(2023, 9, 21, 10, 51, 6), 'scenario': None}\n",
      "{'id': 'baa71b89-6516-4ba0-ac15-52724fa763e8', 'name': 'demandresponse-autoai-withaicore', 'scenario_id': 'demandresponse-autoai', 'executable_id': 'auto-pipeline', 'parameter_bindings': [], 'input_artifact_bindings': [], 'created_at': datetime.datetime(2023, 9, 1, 10, 31, 52), 'scenario': None}\n",
      "{'id': 'c755c5fb-cd81-4178-9859-b21ba71255cf', 'name': 'demandresponse-autoai-withaicore', 'scenario_id': 'demandresponse-autoai', 'executable_id': 'auto-pipeline', 'parameter_bindings': [], 'input_artifact_bindings': [], 'created_at': datetime.datetime(2023, 8, 30, 15, 52, 5), 'scenario': None}\n",
      "{'id': 'd010e4fb-3bc8-4cdf-a5a5-0c6cdcb7bfad', 'name': 'demandresponse-autoai-withaicore', 'scenario_id': 'demandresponse-autoai', 'executable_id': 'auto-pipeline', 'parameter_bindings': [], 'input_artifact_bindings': [], 'created_at': datetime.datetime(2023, 8, 30, 15, 43, 37), 'scenario': None}\n",
      "{'id': '0b9d1aae-8be5-420c-9d71-ab8c442c283c', 'name': 'demandresponse-autoai-withaicore', 'scenario_id': 'demandresponse-autoai', 'executable_id': 'auto-pipeline', 'parameter_bindings': [], 'input_artifact_bindings': [], 'created_at': datetime.datetime(2023, 8, 30, 14, 52, 15), 'scenario': None}\n",
      "{'id': 'c793b075-11a6-4ed8-baf3-3a8ec7e30166', 'name': 'demandresponse-autoai-withaicore', 'scenario_id': 'demandresponse-autoai', 'executable_id': 'auto-pipeline', 'parameter_bindings': [], 'input_artifact_bindings': [], 'created_at': datetime.datetime(2023, 8, 30, 14, 37, 39), 'scenario': None}\n",
      "{'id': '0f2a5496-01de-409c-bf38-bceb68b8f096', 'name': 'demandresponse-autoai-withaicore', 'scenario_id': 'demandresponse-autoai', 'executable_id': 'auto-pipeline', 'parameter_bindings': [], 'input_artifact_bindings': [], 'created_at': datetime.datetime(2023, 7, 27, 16, 44, 21), 'scenario': None}\n",
      "{'id': '26d1b606-fb3c-4768-b52b-876737717e1b', 'name': 'demandresponse-autoai-withaicore', 'scenario_id': 'demandresponse-autoai', 'executable_id': 'auto-pipeline', 'parameter_bindings': [], 'input_artifact_bindings': [], 'created_at': datetime.datetime(2023, 7, 27, 16, 43, 43), 'scenario': None}\n"
     ]
    }
   ],
   "source": [
    "# Lists all configurations\n",
    "response = ai_core_client.configuration.query(\n",
    "    resource_group = \"vikrambhat\"\n",
    ")\n",
    "\n",
    "for configuration in response.resources:\n",
    "    print(configuration.__dict__)\n",
    "    \n"
   ]
  },
  {
   "cell_type": "markdown",
   "id": "19ba2c1d",
   "metadata": {},
   "source": [
    "## Create Deployment"
   ]
  },
  {
   "cell_type": "code",
   "execution_count": 18,
   "id": "15d58a66",
   "metadata": {},
   "outputs": [
    {
     "name": "stdout",
     "output_type": "stream",
     "text": [
      "{'id': 'd16ea8a28e3116cc', 'message': 'Deployment scheduled.', 'deployment_url': '', 'status': <Status.UNKNOWN: 'UNKNOWN'>, 'ttl': None}\n"
     ]
    }
   ],
   "source": [
    "response = ai_core_client.deployment.create(\n",
    "    resource_group = 'vikrambhat',\n",
    "    configuration_id = conf_id # change this\n",
    ")\n",
    "print(response.__dict__)\n",
    "deploymentid=response.__dict__['id']"
   ]
  },
  {
   "cell_type": "markdown",
   "id": "aa102396",
   "metadata": {},
   "source": [
    "## Check deployment status"
   ]
  },
  {
   "cell_type": "code",
   "execution_count": 25,
   "id": "eeeeb2d5",
   "metadata": {},
   "outputs": [
    {
     "name": "stdout",
     "output_type": "stream",
     "text": [
      "Status:  Status.RUNNING\n",
      "********************************************************************************\n",
      "{'id': 'd16ea8a28e3116cc', 'configuration_id': '155c3ec9-af89-4aad-9fef-cbb2e01b52eb', 'configuration_name': 'demandresponse-autoai-withaicore', 'scenario_id': 'demandresponse-autoai', 'status': <Status.RUNNING: 'RUNNING'>, 'target_status': <TargetStatus.RUNNING: 'RUNNING'>, 'created_at': datetime.datetime(2023, 9, 21, 10, 51, 41), 'modified_at': datetime.datetime(2023, 9, 21, 10, 53, 52), 'status_message': None, 'status_details': None, 'submission_time': datetime.datetime(2023, 9, 21, 10, 52, 59), 'start_time': datetime.datetime(2023, 9, 21, 10, 53, 47), 'completion_time': None, 'deployment_url': 'https://api.ai.prod.us-east-1.aws.ml.hana.ondemand.com/v2/inference/deployments/d16ea8a28e3116cc', 'last_operation': <Operation.CREATE: 'CREATE'>, 'latest_running_configuration_id': '155c3ec9-af89-4aad-9fef-cbb2e01b52eb', 'ttl': None}\n"
     ]
    }
   ],
   "source": [
    "response = ai_core_client.deployment.get(\n",
    "    resource_group = 'vikrambhat',\n",
    "    deployment_id = deploymentid # Change this\n",
    ")\n",
    "\n",
    "print(\"Status: \", response.status)\n",
    "print('*'*80)\n",
    "print(response.__dict__)\n"
   ]
  },
  {
   "cell_type": "code",
   "execution_count": 24,
   "id": "ddcf4546",
   "metadata": {
    "scrolled": true
   },
   "outputs": [],
   "source": [
    "from ai_core_sdk.models import TargetStatus\n",
    "response=ai_core_client.deployment.query_logs(resource_group = 'vikrambhat',\n",
    "    deployment_id = deploymentid)\n",
    "for log in response.data.result:\n",
    "    print(log.msg)\n",
    "    print(\"---\")"
   ]
  },
  {
   "cell_type": "markdown",
   "id": "cae7d6ba",
   "metadata": {},
   "source": [
    "## Make prediction"
   ]
  },
  {
   "cell_type": "code",
   "execution_count": 26,
   "id": "5b7f2669",
   "metadata": {},
   "outputs": [],
   "source": [
    "deployment_url = \"https://api.ai.prod.us-east-1.aws.ml.hana.ondemand.com/v2/inference/deployments/d16ea8a28e3116cc\"\n"
   ]
  },
  {
   "cell_type": "code",
   "execution_count": 27,
   "id": "d186da70",
   "metadata": {},
   "outputs": [
    {
     "name": "stdout",
     "output_type": "stream",
     "text": [
      "Demand Response Model is loaded.\n"
     ]
    }
   ],
   "source": [
    "\n",
    "\n",
    "# URL\n",
    "\n",
    "\n",
    "endpoint = f\"{deployment_url}/v2/greet\" # endpoint implemented in serving engine\n",
    "headers = {\"Authorization\": ai_core_client.rest_client.get_token(),\n",
    "           'ai-resource-group': \"vikrambhat\"}\n",
    "response = requests.get(endpoint, headers=headers)\n",
    "\n",
    "print(response.text)"
   ]
  },
  {
   "cell_type": "code",
   "execution_count": 28,
   "id": "ab6c164c",
   "metadata": {},
   "outputs": [
    {
     "name": "stdout",
     "output_type": "stream",
     "text": [
      "<Response [200]>\n",
      "{'predictions': [{'fields': ['prediction', 'probability'], 'values': [[0.0, [0.6210089111178061, 0.37899108888219385]]]}]}\n"
     ]
    }
   ],
   "source": [
    "\n",
    "# Preparing the input for inference\n",
    "test_input={'input_data': [{'fields': ['CUSTOMER_ID','CSTFNM','CSTLNM','CSTPH1','CSTML','AGE','CITY','MARITAL_STATUS','GENDER','EDUCATION','EMPLOYMENT','TENURE','SEGMENT','HOME_SIZE','ENERGY_USAGE_PER_MONTH','ENERGY_EFFICIENCY','IS_REGISTERED_FOR_ALERTS','OWNS_HOME','COMPLAINTS','EST_INCOME','CLTV','HAS_THERMOSTAT','HAS_HOME_AUTOMATION','PHOTOVOLTAIC_ZONING','WIND_ZONING','SMART_METER_COMMENTS','IS_CAR_OWNER','HAS_EV','HAS_PHOTOVOLTAIC','HAS_WIND','EBILL','IN_WARRANTY','STD_YRLY_USAGE','MISSED_PAYMENT','YEARLY_USAGE_PREDICTED'],\n",
    "   'values': [[1,'Leonor','Cummerata','781-757-3537','Leonor.Cummerata@nola.biz',44,'Mountain View','S','male','Associate degree','Employed full-time',13,'Green Advocate',1980,5080,0.39,True,True,False,47870,352.0,True,False,True,False,'Negative',True,True,True,False,False,True,56049,False,59972.4]]}]}\n",
    "\n",
    "endpoint = f\"{deployment_url}/v2/predict\" # endpoint implemented in serving engine\n",
    "headers = {\"Authorization\": ai_core_client.rest_client.get_token(),\n",
    "           'ai-resource-group': \"vikrambhat\",\n",
    "           \"Content-Type\": \"application/json\"}\n",
    "response = requests.post(endpoint, headers=headers, json=test_input)\n",
    "print(response)\n",
    "print( response.json())"
   ]
  },
  {
   "cell_type": "markdown",
   "id": "db63a78a",
   "metadata": {},
   "source": [
    "### Prediction and Logging to Openscale \n",
    "#### Method 1. Without Watson OpenScale Inputs"
   ]
  },
  {
   "cell_type": "code",
   "execution_count": 43,
   "id": "0e41b688",
   "metadata": {},
   "outputs": [
    {
     "name": "stdout",
     "output_type": "stream",
     "text": [
      "<Response [200]>\n",
      "{'model_prediction': {'predictions': [{'fields': ['prediction', 'probability'], 'values': [[0.0, [0.6210089111178061, 0.37899108888219385]], [1.0, [0.31457225323657423, 0.6854277467634258]]]}]}, 'response': 'Payload Logging and Feedback logging Successful'}\n"
     ]
    }
   ],
   "source": [
    "# sample 10 records\n",
    "json_input={'input_data': [{'fields': ['CUSTOMER_ID','CSTFNM','CSTLNM','CSTPH1','CSTML','AGE','CITY','MARITAL_STATUS','GENDER','EDUCATION','EMPLOYMENT','TENURE','SEGMENT','HOME_SIZE','ENERGY_USAGE_PER_MONTH','ENERGY_EFFICIENCY','IS_REGISTERED_FOR_ALERTS','OWNS_HOME','COMPLAINTS','EST_INCOME','CLTV','HAS_THERMOSTAT','HAS_HOME_AUTOMATION','PHOTOVOLTAIC_ZONING','WIND_ZONING','SMART_METER_COMMENTS','IS_CAR_OWNER','HAS_EV','HAS_PHOTOVOLTAIC','HAS_WIND','EBILL','IN_WARRANTY','STD_YRLY_USAGE','MISSED_PAYMENT','YEARLY_USAGE_PREDICTED'], 'values': [[64988, 'Kianna', 'Torphy', '319-548-0030', 'Kianna.Torphy@precious.me', 28, 'Palo Alto', 'U', 'male', 'Some college', 'Retired', 4, 'Budget Payment Plan Members', 3330, 4500, 0.74, True, True, True, 78000, 370.0, True, True, True, True, 'Negative', True, False, True, True, True, True, 32345, False, 1215.5], [64989, 'Jess', 'Quitzon', '504-864-5217', 'Jess.Quitzon@eddie.us', 57, 'Santa Clara', 'U', 'male', \"Bachelor's degree or more\", 'Stay at home parent', 72, 'Budget Payment Plan Members', 1420, 2330, 0.609, True, True, False, 8073, 324.0, True, False, True, False, 'Positive', False, True, False, False, True, True, 32345, False, 7179.6], [64990, 'Christiana', 'Cummerata', '919-398-7367', 'Christiana.Cummerata@bryon.tv', 69, 'Palo Alto', 'U', 'male', 'High school graduate', 'Retired', 44, 'Budget Payment Plan Members', 4740, 14600, 0.325, False, False, False, 7737, 191.0, True, True, True, False, 'Negative', True, False, False, False, False, True, 32345, False, 6834.1], [64991, 'Damien', 'Koss', '347-730-5387', 'Damien.Koss@andreanne.biz', 57, 'Santa Clara', 'M', 'male', \"Bachelor's degree or more\", 'Employed full-time, Student', 50, 'Budget Payment Plan Members', 3540, 8160, 0.434, True, True, False, 28313, 128.0, False, True, False, False, 'Neutral', False, True, False, False, False, True, 32345, False, 10029.8], [64992, 'Aiyana', 'Durgan', '832-300-2448', 'Aiyana.Durgan@gavin.info', 37, 'Sunnyvale', 'S', 'female', \"Bachelor's degree or more\", 'Employed full-time', 61, 'High Flyers', 4240, 9120, 0.465, False, True, False, 83287, 111.0, True, False, True, True, 'Negative', False, False, False, True, True, False, 32345, True, 6687.5], [64994, 'Lottie', 'Pouros', '651-455-9857', 'Lottie.Pouros@javon.com', 64, 'Mountain View', 'S', 'female', \"Bachelor's degree or more\", 'Student', 26, 'Budget Payment Plan Members', 3300, 8130, 0.406, False, True, False, 4316, 128.0, False, False, True, False, 'Positive', False, False, True, False, True, False, 32345, False, 5796.6], [64995, 'Roger', 'Hagenes', '978-761-4394', 'Roger.Hagenes@tamara.tv', 53, 'Sunnyvale', 'U', 'female', 'High school graduate', 'Employed full-time', 15, 'High Flyers', 2500, 7050, 0.355, True, False, False, 20078, 111.0, True, False, False, True, 'Neutral', False, False, False, False, True, False, 32345, False, 2889.3], [64997, 'Allene', 'Bergnaum', '405-858-3428', 'Allene.Bergnaum@christopher.info', 43, 'Santa Clara', 'S', 'female', 'Some college', 'Employed full-time, Student', 7, 'High Flyers', 5410, 8120, 0.667, False, True, False, 83287, 78.8, True, False, False, False, 'Negative', False, True, False, False, False, True, 32345, False, 7369.6], [64998, 'Bryana', 'Witting', '412-423-6899', 'Bryana.Witting@mazie.biz', 62, 'Santa Clara', 'U', 'male', \"Bachelor's degree or more\", 'Not currently employed', 67, 'Green Advocate', 4320, 6470, 0.667, True, True, False, 73338, 127.0, True, False, False, False, 'Neutral', True, False, False, False, True, False, 32345, False, 5826.6], [64999, 'Gerson', 'Beatty', '858-564-7970', 'Gerson.Beatty@bernhard.tv', 73, 'Palo Alto', 'M', 'male', 'Some college', 'Student', 70, 'High Flyers', 2760, 3450, 0.8, True, False, False, 9114, 158.0, False, False, False, False, 'Neutral', True, False, False, False, False, False, 32345, False, 1058.1]]}]}\n",
    "\n",
    "\n",
    "\n",
    "endpoint = f\"{deployment_url}/v2/predict_and_log\" # endpoint implemented in serving engine\n",
    "headers = {\"Authorization\": ai_core_client.rest_client.get_token(),\n",
    "           'ai-resource-group': \"vikrambhat\",\n",
    "           \"Content-Type\": \"application/json\"}\n",
    "response = requests.post(endpoint, headers=headers, json=json_input)\n",
    "print(response)\n",
    "print( response.json())"
   ]
  },
  {
   "cell_type": "markdown",
   "id": "96432dd1",
   "metadata": {},
   "source": [
    "#### Method 2. With Watson OpenScale Inputs"
   ]
  },
  {
   "cell_type": "code",
   "execution_count": 43,
   "id": "c69367ac",
   "metadata": {},
   "outputs": [
    {
     "name": "stdout",
     "output_type": "stream",
     "text": [
      "<Response [200]>\n",
      "{'model_prediction': {'predictions': [{'fields': ['prediction', 'probability'], 'values': [[0.0, [0.6210089111178061, 0.37899108888219385]], [1.0, [0.31457225323657423, 0.6854277467634258]]]}]}, 'response': 'Payload Logging and Feedback logging Successful'}\n"
     ]
    }
   ],
   "source": [
    "json_input={'input_data': [{'fields': ['CUSTOMER_ID','CSTFNM','CSTLNM','CSTPH1','CSTML','AGE','CITY','MARITAL_STATUS','GENDER','EDUCATION','EMPLOYMENT','TENURE','SEGMENT','HOME_SIZE','ENERGY_USAGE_PER_MONTH','ENERGY_EFFICIENCY','IS_REGISTERED_FOR_ALERTS','OWNS_HOME','COMPLAINTS','EST_INCOME','CLTV','HAS_THERMOSTAT','HAS_HOME_AUTOMATION','PHOTOVOLTAIC_ZONING','WIND_ZONING','SMART_METER_COMMENTS','IS_CAR_OWNER','HAS_EV','HAS_PHOTOVOLTAIC','HAS_WIND','EBILL','IN_WARRANTY','STD_YRLY_USAGE','MISSED_PAYMENT','YEARLY_USAGE_PREDICTED'],\n",
    "   'values': [[1,'Leonor','Cummerata','781-757-3537','Leonor.Cummerata@nola.biz',44,'Mountain View','S','male','Associate degree','Employed full-time',13,'Green Advocate',1980,5080,0.39,True,True,False,47870,352.0,True,False,True,False,'Negative',True,True,True,False,False,True,56049,False,59972.4],\n",
    "             [106,'Alberta','Hackett','520-430-9350','Alberta.Hackett@albina.info',52,'Santa Clara','M','female','High school graduate','Employed full-time',14,'Budget Payment Plan Members',2120,3340,0.635,True,True,False,65619,141.0,True,True,False,True,'Positive',True,True,False,False,True,True,28395,False,28395.0]]}],\n",
    "           'service_credentials':{'ibmcloudapikey':'KDuYn_OWhzQ4O5zqoo9mHEWv-ouFMiATJcUGJAUJFOZo','SERVICE_INSTANCE_ID':'b78d9fcd-74b7-4b17-a6bf-1983299bafc5','subscription_id':'9d44e345-0e39-41c7-8645-3dd60c9fd003'}\n",
    "           }\n",
    "\n",
    "endpoint = f\"{deployment_url}/v2/predict_and_logging\" # endpoint implemented in serving engine\n",
    "headers = {\"Authorization\": ai_core_client.rest_client.get_token(),\n",
    "           'ai-resource-group': \"vikrambhat\",\n",
    "           \"Content-Type\": \"application/json\"}\n",
    "response = requests.post(endpoint, headers=headers, json=json_input)\n",
    "\n",
    "print(response)\n",
    "print( response.json())"
   ]
  },
  {
   "cell_type": "code",
   "execution_count": null,
   "id": "858ab824",
   "metadata": {},
   "outputs": [],
   "source": []
  }
 ],
 "metadata": {
  "kernelspec": {
   "display_name": "Python 3 (ipykernel)",
   "language": "python",
   "name": "python3"
  },
  "language_info": {
   "codemirror_mode": {
    "name": "ipython",
    "version": 3
   },
   "file_extension": ".py",
   "mimetype": "text/x-python",
   "name": "python",
   "nbconvert_exporter": "python",
   "pygments_lexer": "ipython3",
   "version": "3.9.12"
  }
 },
 "nbformat": 4,
 "nbformat_minor": 5
}
