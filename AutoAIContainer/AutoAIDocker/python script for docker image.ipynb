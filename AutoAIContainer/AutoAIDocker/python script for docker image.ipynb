{
 "cells": [
  {
   "cell_type": "code",
   "execution_count": 2,
   "id": "cd526bb8",
   "metadata": {},
   "outputs": [
    {
     "data": {
      "text/plain": [
       "True"
      ]
     },
     "execution_count": 2,
     "metadata": {},
     "output_type": "execute_result"
    }
   ],
   "source": [
    "#!/bin/python3\n",
    "import os\n",
    "import joblib\n",
    "import pandas as pd\n",
    "from flask import Flask, jsonify, request\n",
    "from ibm_cloud_sdk_core.authenticators import IAMAuthenticator\n",
    "from ibm_watson_openscale import APIClient\n",
    "from ibm_watson_openscale.supporting_classes.enums import DataSetTypes, TargetTypes\n",
    "from ibm_watson_openscale.supporting_classes.payload_record import PayloadRecord\n",
    "\n",
    "from dotenv import load_dotenv\n",
    "load_dotenv()\n",
    "\n"
   ]
  },
  {
   "cell_type": "code",
   "execution_count": 3,
   "id": "f2e935e7",
   "metadata": {},
   "outputs": [],
   "source": [
    "\n",
    "ibmcloudapikey = os.getenv(\"ibmcloudapikey\")\n",
    "SERVICE_INSTANCE_ID = os.getenv(\"SERVICE_INSTANCE_ID\")\n",
    "subscription_id = os.getenv(\"subscription_id\")\n",
    "\n",
    "# Load the machine learning model\n",
    "model = joblib.load(\"auto-ai-pipeline.pickle\")\n"
   ]
  },
  {
   "cell_type": "code",
   "execution_count": 4,
   "id": "63fba536",
   "metadata": {},
   "outputs": [],
   "source": [
    "app = Flask(__name__)"
   ]
  },
  {
   "cell_type": "code",
   "execution_count": 66,
   "id": "6767bec2",
   "metadata": {},
   "outputs": [],
   "source": [
    "def vik():\n",
    "    output=\"This REST API call predicts the demand response of a customer. \\nUse POST /v2/predict with your payload!\\nUse POST /v2/feedback_logging with your payload and response to load data into Watson OpenScales feedback_logging table!\\nUse POST /v2/payload_logging with your payload to load data and response into Watson OpenScales payload_logging table!\"\n",
    "    return str(output)\n"
   ]
  },
  {
   "cell_type": "code",
   "execution_count": 8,
   "id": "5aba8262",
   "metadata": {},
   "outputs": [],
   "source": [
    "@app.route(\"/v2/greet\", methods=[\"GET\"])\n",
    "def status():\n",
    "    global model\n",
    "    if model is None:\n",
    "        return \"Flask Code: Model was not loaded.\"\n",
    "    else:\n",
    "        return \"Demand Response Model is loaded.\"\n"
   ]
  },
  {
   "cell_type": "code",
   "execution_count": null,
   "id": "3eb70e9c",
   "metadata": {},
   "outputs": [],
   "source": [
    "def predict(payload):\n",
    "    global model\n",
    "    payload = payload['input_data'][0]\n",
    "    df = pd.DataFrame(payload['values'], columns=payload['fields'])\n",
    "    \n",
    "    probs = model.predict_proba(df.values).tolist()\n",
    "    preds = model.predict(df.values).tolist()\n",
    "    res = [{'prediction': preds[i], 'probability': probs[i]} for i in range(len(preds))]\n",
    "    output = {\n",
    "        'predictions': [{\n",
    "            \"fields\": ['prediction', 'probability'],\n",
    "            \"values\": [[res[i]['prediction'], res[i]['probability']] for i in range(len(res))]\n",
    "        }]\n",
    "    }\n",
    "\n",
    "    \n",
    "@app.route(\"/v2/predict\", methods=[\"POST\"])\n",
    "def predict_demand_response():\n",
    "\n",
    "    payload = request.get_json()\n",
    "    output=predict(payload)\n",
    "    return jsonify(output)\n",
    "    \n",
    "\n"
   ]
  },
  {
   "cell_type": "code",
   "execution_count": 6,
   "id": "b918c435",
   "metadata": {},
   "outputs": [],
   "source": []
  },
  {
   "cell_type": "code",
   "execution_count": 14,
   "id": "8787c5d8",
   "metadata": {},
   "outputs": [],
   "source": []
  },
  {
   "cell_type": "code",
   "execution_count": 53,
   "id": "b53b5e51",
   "metadata": {},
   "outputs": [],
   "source": [
    "@app.route(\"/v2/authenticate\", methods=[\"POST\"])\n",
    "def openscale_authentication():\n",
    "    try:\n",
    "        service_credentials = {\n",
    "        \"apikey\": ibmcloudapikey,\n",
    "        \"url\": \"https://api.aiopenscale.cloud.ibm.com\"\n",
    "        }\n",
    "\n",
    "        authenticator = IAMAuthenticator(\n",
    "                apikey=service_credentials[\"apikey\"],\n",
    "                url=\"https://iam.cloud.ibm.com/identity/token\"\n",
    "            )\n",
    "\n",
    "        wos_client = APIClient(authenticator=authenticator, service_instance_id=SERVICE_INSTANCE_ID, service_url=service_credentials[\"url\"])\n",
    "        return wos_client\n",
    "    except:\n",
    "        return \"Watson OpenScale Client Error\"\n"
   ]
  },
  {
   "cell_type": "code",
   "execution_count": 39,
   "id": "ce5c3fb3",
   "metadata": {},
   "outputs": [],
   "source": [
    "@app.route(\"/v2/feedback_logging\", methods=[\"POST\"])\n",
    "def feedback_logging():\n",
    "    payload = request.get_json()\n",
    "    predictions=predict(payload)\n",
    "    feedback_log_req={}\n",
    "    feedback_log_req['fields']=test_input['input_data'][0]['fields']+[\"DEMAND_RESPONSE\"]+[\"_original_prediction\",\"_original_probability\",\"_debiased_prediction\",\"_debiased_probability\"]\n",
    "    feedback_log_req['values']=[]\n",
    "    for x in range(len(predictions['predictions'][0]['values'])):\n",
    "         feedback_log_req['values'].append(test_input['input_data'][0]['values'][x]+[int(predictions['predictions'][0]['values'][x][0])]+predictions['predictions'][0]['values'][x]+predictions['predictions'][0]['values'][x])\n",
    "\n",
    "        \n",
    "    \n",
    "    try:\n",
    "        wos_client = openscale_authentication()\n",
    "        feedback_dataset_id = wos_client.data_sets.list(type=DataSetTypes.FEEDBACK, target_target_id=subscription_id, target_target_type=TargetTypes.SUBSCRIPTION).result.data_sets[0].metadata.id\n",
    "\n",
    "\n",
    "        wos_client.data_sets.store_records(\n",
    "                data_set_id=feedback_dataset_id,\n",
    "                request_body=[feedback_log_req],\n",
    "                background_mode=False\n",
    "        )\n",
    "        return \"Feedback Logging Successfull\"\n",
    "\n",
    "    except:\n",
    "        return \"Feedback Logging Failed, Please check your watson openscale instance and verify the inputs\"\n",
    "\n",
    "\n"
   ]
  },
  {
   "cell_type": "code",
   "execution_count": 60,
   "id": "d19c27eb",
   "metadata": {},
   "outputs": [],
   "source": [
    "@app.route(\"/v2/payload_logging\", methods=[\"POST\"])\n",
    "def payload_logging():\n",
    "    payload = request.get_json()\n",
    "    payload_scoring_request=payload['input_data'][0]\n",
    "    payload_scoring_request['meta']={'fields':['referrer_gender'], 'values':[[i[8]] for i in payload['input_data'][0]['values']]}\n",
    "    payload_scoring_response = predict(payload)\n",
    "    \n",
    "    try:\n",
    "        wos_client = openscale_authentication()\n",
    "        payload_logging_data_set_id = wos_client.data_sets.list(type=DataSetTypes.PAYLOAD_LOGGING, target_target_id=subscription_id, target_target_type=TargetTypes.SUBSCRIPTION).result.data_sets[0].metadata.id\n",
    "        \n",
    "        wos_client.data_sets.store_records(data_set_id=payload_logging_data_set_id, request_body=[PayloadRecord(request=payload_scoring_request, response=payload_scoring_response, response_time=460)])\n",
    "        return \"Payload Logging Successful\"\n",
    "    except:\n",
    "        return \"Payload Logging Failed, Please check your watson openscale instance and verify the inputs\"\n",
    "        \n",
    "\n"
   ]
  },
  {
   "cell_type": "code",
   "execution_count": null,
   "id": "f2ad579a",
   "metadata": {},
   "outputs": [],
   "source": [
    "test_input={'input_data': [{'fields': ['CUSTOMER_ID','CSTFNM','CSTLNM','CSTPH1','CSTML','AGE','CITY','MARITAL_STATUS','GENDER','EDUCATION','EMPLOYMENT','TENURE','SEGMENT','HOME_SIZE','ENERGY_USAGE_PER_MONTH','ENERGY_EFFICIENCY','IS_REGISTERED_FOR_ALERTS','OWNS_HOME','COMPLAINTS','EST_INCOME','CLTV','HAS_THERMOSTAT','HAS_HOME_AUTOMATION','PHOTOVOLTAIC_ZONING','WIND_ZONING','SMART_METER_COMMENTS','IS_CAR_OWNER','HAS_EV','HAS_PHOTOVOLTAIC','HAS_WIND','EBILL','IN_WARRANTY','STD_YRLY_USAGE','MISSED_PAYMENT','YEARLY_USAGE_PREDICTED'],\n",
    "   'values': [[1,'Leonor','Cummerata','781-757-3537','Leonor.Cummerata@nola.biz',44,'Mountain View','S','male','Associate degree','Employed full-time',13,'Green Advocate',1980,5080,0.39,True,True,False,47870,352.0,True,False,True,False,'Negative',True,True,True,False,False,True,56049,False,59972.4],\n",
    "             [106,'Alberta','Hackett','520-430-9350','Alberta.Hackett@albina.info',52,'Santa Clara','M','female','High school graduate','Employed full-time',14,'Budget Payment Plan Members',2120,3340,0.635,True,True,False,65619,141.0,True,True,False,True,'Positive',True,True,False,False,True,True,28395,False,28395.0]]}]}\n",
    "\n",
    "predictions=predict(test_input)\n"
   ]
  },
  {
   "cell_type": "code",
   "execution_count": 75,
   "id": "b5c9f083",
   "metadata": {},
   "outputs": [],
   "source": [
    "test_input={'input_data': [{'fields': ['CUSTOMER_ID','CSTFNM','CSTLNM','CSTPH1','CSTML','AGE','CITY','MARITAL_STATUS','GENDER','EDUCATION','EMPLOYMENT','TENURE','SEGMENT','HOME_SIZE','ENERGY_USAGE_PER_MONTH','ENERGY_EFFICIENCY','IS_REGISTERED_FOR_ALERTS','OWNS_HOME','COMPLAINTS','EST_INCOME','CLTV','HAS_THERMOSTAT','HAS_HOME_AUTOMATION','PHOTOVOLTAIC_ZONING','WIND_ZONING','SMART_METER_COMMENTS','IS_CAR_OWNER','HAS_EV','HAS_PHOTOVOLTAIC','HAS_WIND','EBILL','IN_WARRANTY','STD_YRLY_USAGE','MISSED_PAYMENT','YEARLY_USAGE_PREDICTED'],\n",
    "   'values': [[1,'Leonor','Cummerata','781-757-3537','Leonor.Cummerata@nola.biz',44,'Mountain View','S','male','Associate degree','Employed full-time',13,'Green Advocate',1980,5080,0.39,True,True,False,47870,352.0,True,False,True,False,'Negative',True,True,True,False,False,True,56049,False,59972.4],\n",
    "             [106,'Alberta','Hackett','520-430-9350','Alberta.Hackett@albina.info',52,'Santa Clara','M','female','High school graduate','Employed full-time',14,'Budget Payment Plan Members',2120,3340,0.635,True,True,False,65619,141.0,True,True,False,True,'Positive',True,True,False,False,True,True,28395,False,28395.0]]}],\n",
    "           'service_credentials':{'ibmcloudapikey':'KDuYn_OWhzQ4O5zqoo9mHEWv-ouFMiATJcUGJAUJFOZo','SERVICE_INSTANCE_ID':'b78d9fcd-74b7-4b17-a6bf-1983299bafc5','subscription_id':'ce86bff6-2994-45a7-b06c-f12eb0bbb9a9'}\n",
    "           }\n"
   ]
  },
  {
   "cell_type": "code",
   "execution_count": 73,
   "id": "ba958e02",
   "metadata": {},
   "outputs": [
    {
     "data": {
      "text/plain": [
       "'KDuYn_OWhzQ4O5zqoo9mHEWv-ouFMiATJcUGJAUJFOZo'"
      ]
     },
     "execution_count": 73,
     "metadata": {},
     "output_type": "execute_result"
    }
   ],
   "source": [
    "test_input['service_credentials']['ibmcloudapikey']"
   ]
  },
  {
   "cell_type": "code",
   "execution_count": 69,
   "id": "e4b6daf9",
   "metadata": {},
   "outputs": [
    {
     "data": {
      "text/plain": [
       "'b78d9fcd-74b7-4b17-a6bf-1983299bafc5'"
      ]
     },
     "execution_count": 69,
     "metadata": {},
     "output_type": "execute_result"
    }
   ],
   "source": [
    "SERVICE_INSTANCE_ID"
   ]
  },
  {
   "cell_type": "code",
   "execution_count": 81,
   "id": "96a998d7",
   "metadata": {},
   "outputs": [],
   "source": [
    "\n",
    "def openscale_authentication_logging(credentials):\n",
    "    try:\n",
    "        service_credentials = {\n",
    "        \"apikey\": credentials['ibmcloudapikey'],\n",
    "        \"url\": \"https://api.aiopenscale.cloud.ibm.com\"\n",
    "        }\n",
    "\n",
    "        authenticator = IAMAuthenticator(\n",
    "                apikey=service_credentials[\"apikey\"],\n",
    "                url=\"https://iam.cloud.ibm.com/identity/token\"\n",
    "            )\n",
    "\n",
    "        wos_client = APIClient(authenticator=authenticator, service_instance_id=credentials['SERVICE_INSTANCE_ID'], service_url=service_credentials[\"url\"])\n",
    "        return wos_client\n",
    "    except:\n",
    "        return \"Watson OpenScale Client Error\"\n",
    "\n",
    "\n",
    "\n",
    "\n",
    "@app.route(\"/v2/predict_and_logging\", methods=[\"POST\"])\n",
    "def predict_and_logging():\n",
    "    payload = request.get_json()\n",
    "    payload_scoring_request=payload['input_data'][0]\n",
    "    payload_scoring_request['meta']={'fields':['referrer_gender'], 'values':[[i[8]] for i in payload['input_data'][0]['values']]}\n",
    "    payload_scoring_response = predict(payload)\n",
    "    predictions=payload_scoring_response\n",
    "    feedback_log_req={}\n",
    "    feedback_log_req['fields']=payload['input_data'][0]['fields']+[\"DEMAND_RESPONSE\"]+[\"_original_prediction\",\"_original_probability\",\"_debiased_prediction\",\"_debiased_probability\"]\n",
    "    feedback_log_req['values']=[]\n",
    "    for x in range(len(predictions['predictions'][0]['values'])):\n",
    "         feedback_log_req['values'].append(payload['input_data'][0]['values'][x]+[int(predictions['predictions'][0]['values'][x][0])]+predictions['predictions'][0]['values'][x]+predictions['predictions'][0]['values'][x])\n",
    "\n",
    "    wos_client = openscale_authentication_logging(payload['service_credentials'])\n",
    "    payload_logging_data_set_id = wos_client.data_sets.list(type=DataSetTypes.PAYLOAD_LOGGING, target_target_id=payload['service_credentials']['subscription_id'], target_target_type=TargetTypes.SUBSCRIPTION).result.data_sets[0].metadata.id\n",
    "\n",
    "    wos_client.data_sets.store_records(data_set_id=payload_logging_data_set_id, request_body=[PayloadRecord(request=payload_scoring_request, response=payload_scoring_response, response_time=460)])\n",
    "    print(\"payload logging successful\")\n",
    "    feedback_dataset_id = wos_client.data_sets.list(type=DataSetTypes.FEEDBACK, target_target_id=payload['service_credentials']['subscription_id'], target_target_type=TargetTypes.SUBSCRIPTION).result.data_sets[0].metadata.id\n",
    "\n",
    "\n",
    "    wos_client.data_sets.store_records(\n",
    "            data_set_id=feedback_dataset_id,\n",
    "            request_body=[feedback_log_req],\n",
    "            background_mode=False\n",
    "    )\n",
    "    \n",
    "    print(\"feedback logging successful\")\n",
    "    output={\"response\":\"Payload Logging and Feedback logging Successful\",\"model_prediction\":payload_scoring_response}\n",
    "\n",
    "\n",
    "    return jsonify(output)\n"
   ]
  },
  {
   "cell_type": "code",
   "execution_count": 82,
   "id": "9dfc2055",
   "metadata": {},
   "outputs": [
    {
     "name": "stdout",
     "output_type": "stream",
     "text": [
      "payload logging successful\n",
      "\n",
      "\n",
      "==========================================================================================\n",
      "\n",
      " Waiting for end of storing records with request id: da2c7576-5504-49f4-9e61-63b90a52171e \n",
      "\n",
      "==========================================================================================\n",
      "\n",
      "\n",
      "\n",
      "active\n",
      "\n",
      "---------------------------------------\n",
      " Successfully finished storing records \n",
      "---------------------------------------\n",
      "\n",
      "\n",
      "feedback logging successful\n"
     ]
    },
    {
     "data": {
      "text/plain": [
       "{'response': 'Payload Logging and Feedback logging Successful',\n",
       " 'model_prediction': {'predictions': [{'fields': ['prediction', 'probability'],\n",
       "    'values': [[0.0, [0.6210089111178061, 0.37899108888219385]],\n",
       "     [1.0, [0.31457225323657423, 0.6854277467634258]]]}]}}"
      ]
     },
     "execution_count": 82,
     "metadata": {},
     "output_type": "execute_result"
    }
   ],
   "source": [
    "predict_and_logging(test_input)"
   ]
  }
 ],
 "metadata": {
  "kernelspec": {
   "display_name": "Python 3 (ipykernel)",
   "language": "python",
   "name": "python3"
  },
  "language_info": {
   "codemirror_mode": {
    "name": "ipython",
    "version": 3
   },
   "file_extension": ".py",
   "mimetype": "text/x-python",
   "name": "python",
   "nbconvert_exporter": "python",
   "pygments_lexer": "ipython3",
   "version": "3.9.12"
  }
 },
 "nbformat": 4,
 "nbformat_minor": 5
}
