{
 "cells": [
  {
   "cell_type": "code",
   "execution_count": null,
   "id": "66a8faf4",
   "metadata": {},
   "outputs": [],
   "source": [
    "!pip install ai-core-sdk"
   ]
  },
  {
   "cell_type": "code",
   "execution_count": 1,
   "id": "03cd677e",
   "metadata": {},
   "outputs": [
    {
     "name": "stdout",
     "output_type": "stream",
     "text": [
      "Requirement already satisfied: python-dotenv in /Users/vikrambhat/opt/anaconda3/lib/python3.9/site-packages (1.0.0)\r\n"
     ]
    }
   ],
   "source": [
    "!pip install python-dotenv"
   ]
  },
  {
   "cell_type": "code",
   "execution_count": 5,
   "id": "ab1614b7",
   "metadata": {},
   "outputs": [],
   "source": [
    "from ai_core_sdk.ai_core_v2_client import AICoreV2Client\n",
    "import os"
   ]
  },
  {
   "cell_type": "code",
   "execution_count": 39,
   "id": "befbcf79",
   "metadata": {},
   "outputs": [
    {
     "data": {
      "text/plain": [
       "True"
      ]
     },
     "execution_count": 39,
     "metadata": {},
     "output_type": "execute_result"
    }
   ],
   "source": [
    "# Reads .env file from the same folder\n",
    "from dotenv import load_dotenv\n",
    "load_dotenv()\n"
   ]
  },
  {
   "cell_type": "code",
   "execution_count": 24,
   "id": "ecb3ba96",
   "metadata": {},
   "outputs": [],
   "source": [
    "ai_core_client = AICoreV2Client(\n",
    "# `AI_API_URL`\n",
    "   base_url = os.getenv(\"BASEURL\"),\n",
    "# `URL`\n",
    "   auth_url =  os.getenv(\"AUTHURL\"),\n",
    "# `clientid`\n",
    "  client_id = os.getenv(\"CLIENTID\"),\n",
    "# `clientsecret`\n",
    "  client_secret = os.getenv(\"CLIENTSECRET\")\n",
    ")"
   ]
  },
  {
   "cell_type": "markdown",
   "id": "f48e6f25",
   "metadata": {},
   "source": [
    "## List Resource Groups"
   ]
  },
  {
   "cell_type": "code",
   "execution_count": 2,
   "id": "f2b3934d",
   "metadata": {},
   "outputs": [
    {
     "name": "stdout",
     "output_type": "stream",
     "text": [
      "{'resource_group_id': 'vikrambhat', 'labels': [], 'status': 'PROVISIONED', 'created_at': datetime.datetime(2023, 7, 4, 16, 5, 9)}\n",
      "{'resource_group_id': 'default', 'labels': [], 'status': 'PROVISIONED', 'created_at': datetime.datetime(2023, 6, 30, 9, 6, 9)}\n"
     ]
    }
   ],
   "source": [
    "response = ai_core_client.resource_groups.query()\n",
    "for app in response.resources:\n",
    "    print(app.__dict__)"
   ]
  },
  {
   "cell_type": "markdown",
   "id": "7689656d",
   "metadata": {},
   "source": [
    "## Add docker Registry"
   ]
  },
  {
   "cell_type": "code",
   "execution_count": null,
   "id": "23017dbf",
   "metadata": {},
   "outputs": [],
   "source": [
    "dockerregistrypassword=os.getenv(\"DOCKERREGISTRY\")"
   ]
  },
  {
   "cell_type": "code",
   "execution_count": 38,
   "id": "a04dbad1",
   "metadata": {},
   "outputs": [
    {
     "name": "stdout",
     "output_type": "stream",
     "text": [
      "{'message': 'secret has been created'}\n"
     ]
    }
   ],
   "source": [
    "response = ai_core_client.docker_registry_secrets.create(\n",
    "    name = \"vbrepo\",\n",
    "    data = {\n",
    "        \".dockerconfigjson\": \"{\\\"auths\\\":{\\\"https://index.docker.io\\\":{\\\"username\\\":\\\"vikrambhat2\\\",\\\"password\\\":\\\"\"+dockerregistrypassword+\"\\\"}}}\"\n",
    "    }\n",
    ")\n",
    "\n",
    "print(response.__dict__)\n"
   ]
  },
  {
   "cell_type": "markdown",
   "id": "2dea52a9",
   "metadata": {},
   "source": [
    "## Add Github Repo"
   ]
  },
  {
   "cell_type": "code",
   "execution_count": 40,
   "id": "1b6170c9",
   "metadata": {},
   "outputs": [],
   "source": [
    "github_access_token=os.getenv(\"GITHUBTOKEN\")"
   ]
  },
  {
   "cell_type": "code",
   "execution_count": null,
   "id": "5b350822",
   "metadata": {},
   "outputs": [],
   "source": [
    "ai_core_client.repositories.create(\n",
    "    name = \"vikram-aicore-pipelines\",\n",
    "    url = \"https://github.com/vikrambhat2/sapaicore_mlexp\",\n",
    "    username = \"vikrambhat2\",\n",
    "    password = github_access_token\n",
    ")"
   ]
  },
  {
   "cell_type": "markdown",
   "id": "9dc0843e",
   "metadata": {},
   "source": [
    "## Check github onboarding status"
   ]
  },
  {
   "cell_type": "code",
   "execution_count": 43,
   "id": "317ff2c5",
   "metadata": {},
   "outputs": [
    {
     "name": "stdout",
     "output_type": "stream",
     "text": [
      "Name: vikram-aicore-pipelines\n",
      "URL: https://github.com/vikrambhat2/sapaicore_mlexp\n",
      "Status: RepositoryStatus.COMPLETED\n"
     ]
    }
   ],
   "source": [
    "# check on-boarding status\n",
    "response = ai_core_client.repositories.query()\n",
    "#\n",
    "for repository in response.resources:\n",
    "    print('Name:', repository.name)\n",
    "    print('URL:', repository.url)\n",
    "    print('Status:', repository.status)"
   ]
  },
  {
   "cell_type": "markdown",
   "id": "0ac7a671",
   "metadata": {},
   "source": [
    "### Specify the folder containing yaml file"
   ]
  },
  {
   "cell_type": "code",
   "execution_count": 74,
   "id": "72ffc12d",
   "metadata": {},
   "outputs": [],
   "source": [
    "yaml_path=\"AUTOAIEXEC\""
   ]
  },
  {
   "cell_type": "markdown",
   "id": "140efafb",
   "metadata": {},
   "source": [
    "### Read execution file(yaml) and create an application"
   ]
  },
  {
   "cell_type": "code",
   "execution_count": 139,
   "id": "db5856fb",
   "metadata": {},
   "outputs": [
    {
     "data": {
      "text/plain": [
       "'Application has been successfully deleted.'"
      ]
     },
     "execution_count": 139,
     "metadata": {},
     "output_type": "execute_result"
    }
   ],
   "source": [
    "## Code to delete existing application\n",
    "res=ai_core_client.applications.delete(application_name=\"aicore-app-autoai\")\n",
    "res.message"
   ]
  },
  {
   "cell_type": "code",
   "execution_count": 140,
   "id": "55506f64",
   "metadata": {},
   "outputs": [
    {
     "data": {
      "text/plain": [
       "<ai_api_client_sdk.models.base_models.BasicResponse at 0x7fb52849ac70>"
      ]
     },
     "execution_count": 140,
     "metadata": {},
     "output_type": "execute_result"
    }
   ],
   "source": [
    "github_app_name=\"aicore-app-autoai\"\n",
    "ai_core_client.applications.create(\n",
    "    application_name = github_app_name,\n",
    "    repository_url = \"https://github.com/vikrambhat2/sapaicore_mlexp\",\n",
    "    path = yaml_path,\n",
    "    revision = \"HEAD\"\n",
    ")\n"
   ]
  },
  {
   "cell_type": "code",
   "execution_count": 141,
   "id": "c96b8ce0",
   "metadata": {},
   "outputs": [
    {
     "name": "stdout",
     "output_type": "stream",
     "text": [
      "{'path': 'DemandResponse', 'revision': 'HEAD', 'repository_url': 'https://github.com/vikrambhat2/sapaicore_mlexp', 'application_name': 'aicore-app'}\n",
      "{'path': 'AUTOAIEXEC', 'revision': 'HEAD', 'repository_url': 'https://github.com/vikrambhat2/sapaicore_mlexp', 'application_name': 'aicore-app-autoai'}\n",
      "{'path': 'DemandResponseExec', 'revision': 'HEAD', 'repository_url': 'https://github.com/vikrambhat2/sapaicore_mlexp', 'application_name': 'aicore-app-vb'}\n",
      "{'path': 'DemandResponse', 'revision': 'HEAD', 'repository_url': 'https://github.com/vikrambhat2/sapaicore_mlexp', 'application_name': 'aicore-app-vb1'}\n",
      "{'path': 'DemandResponseExec2', 'revision': 'HEAD', 'repository_url': 'https://github.com/vikrambhat2/sapaicore_mlexp', 'application_name': 'aicore-app-vb2'}\n",
      "{'path': 'DemandResponse', 'revision': 'HEAD', 'repository_url': 'https://github.com/vikrambhat2/sapaicore_mlexp', 'application_name': 'aicore-app-vb3'}\n"
     ]
    }
   ],
   "source": [
    "response = ai_core_client.applications.query()\n",
    "\n",
    "for app in response.resources:\n",
    "    print(app.__dict__)"
   ]
  },
  {
   "cell_type": "markdown",
   "id": "e3f1ce26",
   "metadata": {},
   "source": [
    "### Check if execution file sync is successful"
   ]
  },
  {
   "cell_type": "code",
   "execution_count": 142,
   "id": "7ff3cae3",
   "metadata": {},
   "outputs": [
    {
     "name": "stdout",
     "output_type": "stream",
     "text": [
      "{'name': 'auto-pipeline', 'kind': 'ServingTemplate', 'status': 'Synced', 'message': 'servingtemplate.ai.sap.com/auto-pipeline created'}\n",
      "{'health_status': 'Healthy', 'sync_status': 'Synced', 'message': 'successfully synced (all tasks run)', 'source': <ai_core_sdk.models.application_source.ApplicationSource object at 0x7fb5485eb4f0>, 'sync_finished_at': '2023-07-16T14:55:10Z', 'sync_started_at': '2023-07-16T14:55:09Z', 'reconciled_at': '2023-07-16T14:55:10Z', 'sync_ressources_status': [<ai_core_sdk.models.application_resource_sync_status.ApplicationResourceSyncStatus object at 0x7fb518439d30>]}\n",
      "********************************************************************************\n",
      "{'name': 'auto-pipeline', 'kind': 'ServingTemplate', 'status': 'Synced', 'message': 'servingtemplate.ai.sap.com/auto-pipeline created'}\n"
     ]
    }
   ],
   "source": [
    "response = ai_core_client.applications.get_status(application_name=github_app_name)\n",
    "\n",
    "\n",
    "for workflow_sync_status in response.sync_ressources_status:\n",
    "    print(workflow_sync_status.__dict__)\n",
    "print(response.__dict__)\n",
    "print('*'*80)\n",
    "print(response.sync_ressources_status[0].__dict__)\n"
   ]
  },
  {
   "cell_type": "markdown",
   "id": "b38a136d",
   "metadata": {},
   "source": [
    "## Create Configuration"
   ]
  },
  {
   "cell_type": "code",
   "execution_count": 143,
   "id": "8b42b100",
   "metadata": {},
   "outputs": [],
   "source": [
    "exec_id=\"auto-pipeline\"\n",
    "scen_id=\"demandresponse-autoai\""
   ]
  },
  {
   "cell_type": "code",
   "execution_count": 144,
   "id": "8a25b265",
   "metadata": {},
   "outputs": [
    {
     "name": "stdout",
     "output_type": "stream",
     "text": [
      "{'id': 'c3b21057-f75b-4e40-a6d9-13c6df94061a', 'message': 'Configuration created'}\n"
     ]
    }
   ],
   "source": [
    "from ai_core_sdk.models import InputArtifactBinding\n",
    "from ai_api_client_sdk.models.parameter_binding import ParameterBinding\n",
    "\n",
    "response = ai_core_client.configuration.create(\n",
    "    name = \"demandresponse-autoai-withaicore\",\n",
    "    resource_group = \"default\",\n",
    "    scenario_id = scen_id, # value from workflow\n",
    "    executable_id = exec_id,\n",
    "#        input_artifact_bindings = [\n",
    "#        # list\n",
    "#        InputArtifactBinding(key=\"demandresponsemodel\", artifact_id =artifact_id), # Change artifact id\n",
    "#    ]\n",
    "\n",
    ")\n",
    "\n",
    "print(response.__dict__)"
   ]
  },
  {
   "cell_type": "code",
   "execution_count": 145,
   "id": "0d22946d",
   "metadata": {},
   "outputs": [],
   "source": [
    "conf_id=response.__dict__['id']"
   ]
  },
  {
   "cell_type": "code",
   "execution_count": 146,
   "id": "b7d6c627",
   "metadata": {
    "scrolled": true
   },
   "outputs": [
    {
     "name": "stdout",
     "output_type": "stream",
     "text": [
      "{'id': 'c3b21057-f75b-4e40-a6d9-13c6df94061a', 'name': 'demandresponse-autoai-withaicore', 'scenario_id': 'demandresponse-autoai', 'executable_id': 'auto-pipeline', 'parameter_bindings': [], 'input_artifact_bindings': [], 'created_at': datetime.datetime(2023, 7, 16, 14, 55, 18), 'scenario': None}\n",
      "{'id': 'a6bc9ee6-9a4e-4334-b04a-9b0bccbb6e6f', 'name': 'demandresponse-autoai-withaicore', 'scenario_id': 'demandresponse-autoai', 'executable_id': 'auto-pipeline', 'parameter_bindings': [], 'input_artifact_bindings': [], 'created_at': datetime.datetime(2023, 7, 16, 14, 40, 46), 'scenario': None}\n",
      "{'id': '1d747eb5-15a4-42b3-b28f-958041354f5f', 'name': 'demandresponse-autoai-withaicore', 'scenario_id': 'demandresponse-autoai', 'executable_id': 'auto-pipeline', 'parameter_bindings': [], 'input_artifact_bindings': [], 'created_at': datetime.datetime(2023, 7, 16, 14, 34, 10), 'scenario': None}\n",
      "{'id': '07f20b04-b89c-42ce-80c9-cfaab8f8042f', 'name': 'demandresponse-autoai-withaicore', 'scenario_id': 'demandresponse-autoai', 'executable_id': 'auto-pipeline', 'parameter_bindings': [], 'input_artifact_bindings': [], 'created_at': datetime.datetime(2023, 7, 16, 13, 54, 21), 'scenario': None}\n",
      "{'id': 'b1121187-54c1-4913-9676-f0b5145aadff', 'name': 'demandresponse-autoai-withaicore', 'scenario_id': 'demandresponse-autoai', 'executable_id': 'auto-pipeline', 'parameter_bindings': [], 'input_artifact_bindings': [], 'created_at': datetime.datetime(2023, 7, 16, 12, 56, 1), 'scenario': None}\n",
      "{'id': 'c82557b3-c97a-4911-9bec-4144df0d73b1', 'name': 'demandresponse-autoai-withaicore', 'scenario_id': 'demandresponse-autoai', 'executable_id': 'auto-pipeline', 'parameter_bindings': [], 'input_artifact_bindings': [], 'created_at': datetime.datetime(2023, 7, 16, 12, 51, 45), 'scenario': None}\n",
      "{'id': '9a85e80c-6c9f-4087-abd3-58b1b6720636', 'name': 'demandresponse-autoai-withaicore', 'scenario_id': 'demandresponse-autoai', 'executable_id': 'auto-pipeline', 'parameter_bindings': [], 'input_artifact_bindings': [], 'created_at': datetime.datetime(2023, 7, 16, 11, 21, 57), 'scenario': None}\n",
      "{'id': '24e4bea0-1031-4fcd-bc74-c1d2218cb361', 'name': 'demandresponse-autoai-withaicore', 'scenario_id': 'demandresponse-autoai', 'executable_id': 'auto-pipeline', 'parameter_bindings': [], 'input_artifact_bindings': [], 'created_at': datetime.datetime(2023, 7, 15, 16, 32, 28), 'scenario': None}\n",
      "{'id': '99ff5880-cdcf-4f9a-8321-6e6367c75efb', 'name': 'predict-demandresponse-withaicore', 'scenario_id': 'demandresponse-code', 'executable_id': 'ml-pipeline-4', 'parameter_bindings': [], 'input_artifact_bindings': [], 'created_at': datetime.datetime(2023, 7, 15, 15, 16, 46), 'scenario': None}\n",
      "{'id': '2790cade-89a7-42e7-8753-e991e630c56d', 'name': 'predict-demandresponse-withaicore', 'scenario_id': 'demandresponse-code', 'executable_id': 'ml-pipeline-4', 'parameter_bindings': [<ai_api_client_sdk.models.parameter_binding.ParameterBinding object at 0x7fb56a10bdc0>], 'input_artifact_bindings': [], 'created_at': datetime.datetime(2023, 7, 15, 15, 9, 49), 'scenario': None}\n",
      "{'id': '8b617aa4-a0e6-41b6-b028-ed09e88cbc00', 'name': 'demandresponse-withaicore', 'scenario_id': 'demandresponse-code', 'executable_id': 'ml-pipeline-4', 'parameter_bindings': [<ai_api_client_sdk.models.parameter_binding.ParameterBinding object at 0x7fb539052eb0>], 'input_artifact_bindings': [], 'created_at': datetime.datetime(2023, 7, 15, 13, 47, 18), 'scenario': None}\n",
      "{'id': '40895b14-c0fe-4c77-b315-b7485da9113a', 'name': 'demandresponse-withaicore', 'scenario_id': 'demandresponse-code', 'executable_id': 'ml-pipeline-4', 'parameter_bindings': [<ai_api_client_sdk.models.parameter_binding.ParameterBinding object at 0x7fb530153f10>], 'input_artifact_bindings': [], 'created_at': datetime.datetime(2023, 7, 15, 13, 34, 57), 'scenario': None}\n",
      "{'id': '48e380d4-51c8-47a0-84d8-697ed3cdb6db', 'name': 'demandresponse-withaicore', 'scenario_id': 'demandresponse-code', 'executable_id': 'ml-pipeline-4', 'parameter_bindings': [<ai_api_client_sdk.models.parameter_binding.ParameterBinding object at 0x7fb530153850>], 'input_artifact_bindings': [], 'created_at': datetime.datetime(2023, 7, 15, 13, 25, 52), 'scenario': None}\n",
      "{'id': 'a79e5bd5-7578-4903-ba62-921537801553', 'name': 'demandresponse-withaicore', 'scenario_id': 'demandresponse-code', 'executable_id': 'ml-pipeline-4', 'parameter_bindings': [], 'input_artifact_bindings': [<ai_api_client_sdk.models.input_artifact_binding.InputArtifactBinding object at 0x7fb5301539a0>], 'created_at': datetime.datetime(2023, 7, 15, 13, 25, 22), 'scenario': None}\n",
      "{'id': 'f833d681-d7a7-4755-b05f-96715fdd471e', 'name': 'demandresponse-withaicore', 'scenario_id': 'demandresponse-demo', 'executable_id': 'scikit-pipeline-1', 'parameter_bindings': [], 'input_artifact_bindings': [<ai_api_client_sdk.models.input_artifact_binding.InputArtifactBinding object at 0x7fb530153100>], 'created_at': datetime.datetime(2023, 7, 15, 13, 4), 'scenario': None}\n",
      "{'id': 'ea07a628-81c7-459f-b895-02774dd36b83', 'name': 'demandresponse-withaicore', 'scenario_id': 'demandresponse-demo', 'executable_id': 'scikit-pipeline-1', 'parameter_bindings': [], 'input_artifact_bindings': [<ai_api_client_sdk.models.input_artifact_binding.InputArtifactBinding object at 0x7fb530153940>], 'created_at': datetime.datetime(2023, 7, 14, 12, 46, 32), 'scenario': None}\n",
      "{'id': '214ba67b-58a4-46ad-b582-d3974cdf04c9', 'name': 'demandresponse-withaicore', 'scenario_id': 'demandresponse-demo', 'executable_id': 'scikit-pipeline-1', 'parameter_bindings': [], 'input_artifact_bindings': [<ai_api_client_sdk.models.input_artifact_binding.InputArtifactBinding object at 0x7fb5184392b0>], 'created_at': datetime.datetime(2023, 7, 14, 12, 43, 57), 'scenario': None}\n",
      "{'id': '55012ba9-28db-4f3c-a66d-0f0e60890cad', 'name': 'demandresponse-withaicore', 'scenario_id': 'demandresponse-demo', 'executable_id': 'scikit-pipeline-1', 'parameter_bindings': [], 'input_artifact_bindings': [<ai_api_client_sdk.models.input_artifact_binding.InputArtifactBinding object at 0x7fb56a442a60>], 'created_at': datetime.datetime(2023, 7, 14, 10, 48, 1), 'scenario': None}\n",
      "{'id': '68c748a1-1559-4054-a10c-955710d5a8f1', 'name': 'demandresponse-withaicore', 'scenario_id': 'demandresponse-demo', 'executable_id': 'scikit-pipeline-1', 'parameter_bindings': [], 'input_artifact_bindings': [<ai_api_client_sdk.models.input_artifact_binding.InputArtifactBinding object at 0x7fb56a442430>], 'created_at': datetime.datetime(2023, 7, 14, 10, 43, 7), 'scenario': None}\n",
      "{'id': '7702f33c-306a-45a1-b435-5ee863c6681d', 'name': 'demandresponse-withaicore', 'scenario_id': 'demandresponse-demo', 'executable_id': 'scikit-pipeline-1', 'parameter_bindings': [], 'input_artifact_bindings': [<ai_api_client_sdk.models.input_artifact_binding.InputArtifactBinding object at 0x7fb56a442fd0>], 'created_at': datetime.datetime(2023, 7, 14, 10, 30, 59), 'scenario': None}\n",
      "{'id': '8c330253-4274-4422-b2a5-3b2fbcae8679', 'name': 'demandresponse-withaicore', 'scenario_id': 'demandresponse-demo', 'executable_id': 'scikit-pipeline-1', 'parameter_bindings': [], 'input_artifact_bindings': [<ai_api_client_sdk.models.input_artifact_binding.InputArtifactBinding object at 0x7fb5485eb4f0>], 'created_at': datetime.datetime(2023, 7, 14, 10, 4, 12), 'scenario': None}\n",
      "{'id': '9a547078-d2fe-412c-873b-56abe9699d59', 'name': 'demandresponse-withaicore', 'scenario_id': 'demandresponse-demo', 'executable_id': 'scikit-pipeline-1', 'parameter_bindings': [], 'input_artifact_bindings': [<ai_api_client_sdk.models.input_artifact_binding.InputArtifactBinding object at 0x7fb53924df70>], 'created_at': datetime.datetime(2023, 7, 14, 9, 51, 39), 'scenario': None}\n",
      "{'id': '676fc148-5f50-4e66-9a44-7423c70c2eba', 'name': 'demandresponse-withaicore', 'scenario_id': 'demandresponse-demo', 'executable_id': 'scikit-pipeline-1', 'parameter_bindings': [], 'input_artifact_bindings': [<ai_api_client_sdk.models.input_artifact_binding.InputArtifactBinding object at 0x7fb53924d0d0>], 'created_at': datetime.datetime(2023, 7, 14, 9, 45, 24), 'scenario': None}\n",
      "{'id': 'ee64919f-6347-44f9-8b80-556c84c6f846', 'name': 'demandresponse-withaicore', 'scenario_id': 'demandresponse-demo', 'executable_id': 'scikit-pipeline-1', 'parameter_bindings': [], 'input_artifact_bindings': [<ai_api_client_sdk.models.input_artifact_binding.InputArtifactBinding object at 0x7fb53924d1c0>], 'created_at': datetime.datetime(2023, 7, 13, 15, 19, 31), 'scenario': None}\n",
      "{'id': 'c5aa921c-63a2-4719-ac21-ce343b9a9c98', 'name': 'demandresponse-withaicore', 'scenario_id': 'demandresponse-demo', 'executable_id': 'scikit-pipeline-1', 'parameter_bindings': [], 'input_artifact_bindings': [], 'created_at': datetime.datetime(2023, 7, 13, 15, 18, 8), 'scenario': None}\n",
      "{'id': 'b32ee12a-bec8-417d-af9b-fe48d37a7e22', 'name': 'demandresponse-withaicore', 'scenario_id': 'demandresponse-demo', 'executable_id': 'scikit-pipeline-1', 'parameter_bindings': [], 'input_artifact_bindings': [], 'created_at': datetime.datetime(2023, 7, 13, 15, 12), 'scenario': None}\n",
      "{'id': 'd655dac4-86c3-417b-b539-b56f8bd4df66', 'name': 'demandresponse-withaicore', 'scenario_id': 'demandresponse-demo', 'executable_id': 'scikit-pipeline-1', 'parameter_bindings': [], 'input_artifact_bindings': [<ai_api_client_sdk.models.input_artifact_binding.InputArtifactBinding object at 0x7fb53924daf0>], 'created_at': datetime.datetime(2023, 7, 13, 13, 43, 47), 'scenario': None}\n",
      "{'id': 'cf03ea34-9e66-4d63-a929-6fcc64bd93c8', 'name': 'demandresponse-conf', 'scenario_id': 'demandresponse-demo', 'executable_id': 'scikit-pipeline-1', 'parameter_bindings': [], 'input_artifact_bindings': [<ai_api_client_sdk.models.input_artifact_binding.InputArtifactBinding object at 0x7fb53924df40>], 'created_at': datetime.datetime(2023, 7, 13, 13, 43, 25), 'scenario': None}\n",
      "{'id': 'f6e5bacd-6883-4217-89b9-94fd4d5abff2', 'name': 'demandresponse-conf', 'scenario_id': 'demandresponse-demo', 'executable_id': 'scikit-pipeline-1', 'parameter_bindings': [], 'input_artifact_bindings': [<ai_api_client_sdk.models.input_artifact_binding.InputArtifactBinding object at 0x7fb53924dee0>], 'created_at': datetime.datetime(2023, 7, 13, 13, 36, 29), 'scenario': None}\n",
      "{'id': 'a1f72622-c4ba-4c6c-b01a-fba7cc0a6d72', 'name': 'demandresponse-conf', 'scenario_id': 'demandresponse-demo', 'executable_id': 'scikit-pipeline-1', 'parameter_bindings': [], 'input_artifact_bindings': [<ai_api_client_sdk.models.input_artifact_binding.InputArtifactBinding object at 0x7fb53924da90>], 'created_at': datetime.datetime(2023, 7, 13, 13, 15, 14), 'scenario': None}\n",
      "{'id': '7e7026a4-151f-4e58-9317-7d6ee1e0f64c', 'name': 'demandresponse-conf', 'scenario_id': 'demandresponse-demo', 'executable_id': 'scikit-pipeline-1', 'parameter_bindings': [], 'input_artifact_bindings': [<ai_api_client_sdk.models.input_artifact_binding.InputArtifactBinding object at 0x7fb53924deb0>], 'created_at': datetime.datetime(2023, 7, 13, 13, 8, 4), 'scenario': None}\n",
      "{'id': 'd8cdc961-e99c-48ca-a423-9e7e3c36d55c', 'name': 'demandresponse-conf', 'scenario_id': 'demandresponse-demo', 'executable_id': 'scikit-pipeline-1', 'parameter_bindings': [], 'input_artifact_bindings': [<ai_api_client_sdk.models.input_artifact_binding.InputArtifactBinding object at 0x7fb53924d670>], 'created_at': datetime.datetime(2023, 7, 12, 12, 32, 11), 'scenario': None}\n",
      "{'id': 'ea8168d8-2e21-4eef-8a58-bbfc63548212', 'name': 'demandresponse-conf', 'scenario_id': 'demandresponse-demo', 'executable_id': 'scikit-pipeline', 'parameter_bindings': [], 'input_artifact_bindings': [<ai_api_client_sdk.models.input_artifact_binding.InputArtifactBinding object at 0x7fb53924ddc0>], 'created_at': datetime.datetime(2023, 7, 12, 11, 28, 10), 'scenario': None}\n",
      "{'id': '63603c70-a4d8-41c4-963b-75fcdacd618e', 'name': 'demandresponse-pipeline-conf', 'scenario_id': 'demand-response-code', 'executable_id': 'ml-pipeline-4', 'parameter_bindings': [], 'input_artifact_bindings': [], 'created_at': datetime.datetime(2023, 7, 11, 12, 4, 53), 'scenario': None}\n",
      "{'id': 'a98241d0-a6d3-4fc4-ac02-057b582446c4', 'name': 'demandresponse-pipeline-conf', 'scenario_id': 'demand-response-code', 'executable_id': 'ml-pipeline-4', 'parameter_bindings': [], 'input_artifact_bindings': [], 'created_at': datetime.datetime(2023, 7, 11, 11, 29, 44), 'scenario': None}\n",
      "{'id': 'c9afc317-f3b0-48c5-9938-00f8e9fe161f', 'name': 'demandresponse-pipeline-conf', 'scenario_id': 'demand-response-code', 'executable_id': 'ml-pipeline-4', 'parameter_bindings': [], 'input_artifact_bindings': [], 'created_at': datetime.datetime(2023, 7, 11, 11, 25, 10), 'scenario': None}\n",
      "{'id': '5a9832cc-bdf2-486f-b389-f5a16dcf7561', 'name': 'demandresponse-pipeline-conf', 'scenario_id': 'demand-response-code', 'executable_id': 'ml-pipeline-4', 'parameter_bindings': [], 'input_artifact_bindings': [], 'created_at': datetime.datetime(2023, 7, 11, 10, 0, 19), 'scenario': None}\n",
      "{'id': '48ce537c-372d-48b9-9c76-7cef3aa90044', 'name': 'demandresponse-pipeline-conf', 'scenario_id': 'demand-response-code', 'executable_id': 'ml-pipeline-4', 'parameter_bindings': [], 'input_artifact_bindings': [], 'created_at': datetime.datetime(2023, 7, 11, 9, 32, 42), 'scenario': None}\n",
      "{'id': 'c018aed7-38b0-40db-a6e8-2d1ceb61c89e', 'name': 'demandresponse-pipeline-conf', 'scenario_id': 'demand-response-code', 'executable_id': 'ml-pipeline-4', 'parameter_bindings': [], 'input_artifact_bindings': [], 'created_at': datetime.datetime(2023, 7, 10, 17, 23, 4), 'scenario': None}\n",
      "{'id': 'c414b5f1-48da-4ced-90bc-b699e25ecbcb', 'name': 'demandresponse-pipeline-conf', 'scenario_id': 'demand-response-code', 'executable_id': 'ml-pipeline-4', 'parameter_bindings': [], 'input_artifact_bindings': [], 'created_at': datetime.datetime(2023, 7, 10, 17, 11, 58), 'scenario': None}\n",
      "{'id': '0887d4be-c707-4990-b8bf-7d79c7e49fcc', 'name': 'demandresponse-pipeline-conf', 'scenario_id': 'demand-response-code', 'executable_id': 'ml-pipeline-4', 'parameter_bindings': [], 'input_artifact_bindings': [], 'created_at': datetime.datetime(2023, 7, 10, 17, 8, 46), 'scenario': None}\n",
      "{'id': '0155afd7-b38b-418c-881a-7bbc7332f62c', 'name': 'demandresponse-pipeline-conf', 'scenario_id': 'demand-response-code', 'executable_id': 'ml-pipeline-4', 'parameter_bindings': [], 'input_artifact_bindings': [], 'created_at': datetime.datetime(2023, 7, 10, 17, 6, 57), 'scenario': None}\n",
      "{'id': '7419c41b-4186-4f11-a710-1f2f94cc899f', 'name': 'demandresponse-pipeline-conf', 'scenario_id': 'demand-response-code', 'executable_id': 'ml-pipeline-4', 'parameter_bindings': [], 'input_artifact_bindings': [], 'created_at': datetime.datetime(2023, 7, 10, 16, 57, 57), 'scenario': None}\n",
      "{'id': '3fe0ec3e-b5ac-414d-8d12-6c63e4dcc113', 'name': 'demandresponse-pipeline-conf', 'scenario_id': 'demand-response-code', 'executable_id': 'ml-pipeline-4', 'parameter_bindings': [], 'input_artifact_bindings': [], 'created_at': datetime.datetime(2023, 7, 10, 16, 56, 8), 'scenario': None}\n",
      "{'id': '4c25671c-d824-4596-a793-a52e374c55e1', 'name': 'demandresponse-pipeline-conf', 'scenario_id': 'demand-response-code', 'executable_id': 'ml-pipeline-4', 'parameter_bindings': [], 'input_artifact_bindings': [], 'created_at': datetime.datetime(2023, 7, 10, 16, 16, 37), 'scenario': None}\n",
      "{'id': 'ac76139e-c73d-455a-96d4-23af2e10cae1', 'name': 'demandresponse-pipeline-conf', 'scenario_id': 'demand-response-code', 'executable_id': 'ml-pipeline-4', 'parameter_bindings': [], 'input_artifact_bindings': [], 'created_at': datetime.datetime(2023, 7, 10, 16, 14, 24), 'scenario': None}\n",
      "{'id': '36cea840-7817-4f9a-aa41-fe7b49d6a008', 'name': 'demandresponse-pipeline-conf', 'scenario_id': 'demand-response-code', 'executable_id': 'ml-pipeline-4', 'parameter_bindings': [], 'input_artifact_bindings': [], 'created_at': datetime.datetime(2023, 7, 10, 16, 7, 20), 'scenario': None}\n",
      "{'id': '7af1f1d5-efd4-44ad-a155-1de7b4927ca2', 'name': 'demandresponse-pipeline-conf', 'scenario_id': 'demand-response-code', 'executable_id': 'ml-pipeline-3', 'parameter_bindings': [], 'input_artifact_bindings': [], 'created_at': datetime.datetime(2023, 7, 10, 15, 50, 3), 'scenario': None}\n",
      "{'id': '82c06383-582f-4ad8-adc8-82722855f195', 'name': 'demandresponse-pipeline-conf', 'scenario_id': 'demand-response-code', 'executable_id': 'ml-pipeline-3', 'parameter_bindings': [], 'input_artifact_bindings': [], 'created_at': datetime.datetime(2023, 7, 10, 15, 40, 22), 'scenario': None}\n",
      "{'id': '5d025089-0268-4ab8-9d7a-6ca66e003beb', 'name': 'demandresponse-pipeline-conf', 'scenario_id': 'demand-response-code', 'executable_id': 'ml-pipeline-3', 'parameter_bindings': [], 'input_artifact_bindings': [], 'created_at': datetime.datetime(2023, 7, 10, 15, 39, 18), 'scenario': None}\n",
      "{'id': '590fa14e-4506-4451-b570-cccbce4bfb38', 'name': 'demandresponse-pipeline-conf', 'scenario_id': 'demand-response-code', 'executable_id': 'ml-pipeline-3', 'parameter_bindings': [], 'input_artifact_bindings': [], 'created_at': datetime.datetime(2023, 7, 10, 15, 37, 23), 'scenario': None}\n",
      "{'id': '9c8f92ab-bb99-4d0c-8669-9d290a1bf103', 'name': 'demandresponse-pipeline-conf', 'scenario_id': 'demand-response-code', 'executable_id': 'ml-pipeline-2', 'parameter_bindings': [], 'input_artifact_bindings': [], 'created_at': datetime.datetime(2023, 7, 10, 10, 37, 11), 'scenario': None}\n",
      "{'id': 'a82afed3-ce19-4aec-884b-6f0aa7980bae', 'name': 'demandresponse-pipeline-conf', 'scenario_id': 'demand-response-code', 'executable_id': 'ml-pipeline-2', 'parameter_bindings': [], 'input_artifact_bindings': [], 'created_at': datetime.datetime(2023, 7, 10, 10, 36, 8), 'scenario': None}\n",
      "{'id': '277f01d7-6a63-4437-b307-7c813fe67ba1', 'name': 'demandresponse-pipeline-conf', 'scenario_id': 'demand-response-code', 'executable_id': 'ml-pipeline-2', 'parameter_bindings': [], 'input_artifact_bindings': [], 'created_at': datetime.datetime(2023, 7, 10, 10, 31, 8), 'scenario': None}\n",
      "{'id': '2546f572-5c24-484f-863f-60ec2bcbf26e', 'name': 'demandresponse-pipeline-conf', 'scenario_id': 'demand-response-code', 'executable_id': 'ml-pipeline-2', 'parameter_bindings': [], 'input_artifact_bindings': [], 'created_at': datetime.datetime(2023, 7, 10, 10, 21, 51), 'scenario': None}\n",
      "{'id': '01be2125-bdb6-47b4-bbbe-d7a4e05cf7d9', 'name': 'demandresponse-pipeline-conf', 'scenario_id': 'demand-response-code', 'executable_id': 'ml-pipeline-2', 'parameter_bindings': [], 'input_artifact_bindings': [], 'created_at': datetime.datetime(2023, 7, 10, 9, 47, 45), 'scenario': None}\n",
      "{'id': 'ccec4b29-b1fb-43f2-a4c2-40c4820a32d3', 'name': 'demandresponse-pipeline-conf', 'scenario_id': 'demand-response-code', 'executable_id': 'ml-pipeline-2', 'parameter_bindings': [<ai_api_client_sdk.models.parameter_binding.ParameterBinding object at 0x7fb53935c910>], 'input_artifact_bindings': [], 'created_at': datetime.datetime(2023, 7, 7, 17, 32, 46), 'scenario': None}\n",
      "{'id': '9d723132-c6d6-4792-a0a7-b11b4d5aa91a', 'name': 'demandresponse-pipeline-conf', 'scenario_id': 'demand-response-code', 'executable_id': 'ml-pipeline-2', 'parameter_bindings': [], 'input_artifact_bindings': [], 'created_at': datetime.datetime(2023, 7, 7, 17, 22, 20), 'scenario': None}\n",
      "{'id': '2fa1f6ac-e587-4366-a5f6-89b5a91b83a0', 'name': 'demandresponse-pipeline-conf', 'scenario_id': 'demand-response-code', 'executable_id': 'ml-pipeline', 'parameter_bindings': [], 'input_artifact_bindings': [], 'created_at': datetime.datetime(2023, 7, 7, 17, 5, 48), 'scenario': None}\n",
      "{'id': 'cb7ce594-81f0-4c33-8bdb-817edf697508', 'name': 'demandresponse-pipeline-conf', 'scenario_id': 'demand-response-code', 'executable_id': 'ml-pipeline', 'parameter_bindings': [], 'input_artifact_bindings': [], 'created_at': datetime.datetime(2023, 7, 7, 16, 57, 15), 'scenario': None}\n",
      "{'id': '7bb09358-e78e-4a52-b593-8b1e3314dc67', 'name': 'hello-pipeline-conf', 'scenario_id': 'demand-response-code', 'executable_id': 'ml-pipeline', 'parameter_bindings': [], 'input_artifact_bindings': [], 'created_at': datetime.datetime(2023, 7, 7, 15, 24, 25), 'scenario': None}\n"
     ]
    }
   ],
   "source": [
    "# Lists all configurations\n",
    "response = ai_core_client.configuration.query(\n",
    "    resource_group = \"default\"\n",
    ")\n",
    "\n",
    "for configuration in response.resources:\n",
    "    print(configuration.__dict__)\n",
    "    \n"
   ]
  },
  {
   "cell_type": "markdown",
   "id": "19ba2c1d",
   "metadata": {},
   "source": [
    "## Create Deployment"
   ]
  },
  {
   "cell_type": "code",
   "execution_count": 147,
   "id": "15d58a66",
   "metadata": {},
   "outputs": [
    {
     "name": "stdout",
     "output_type": "stream",
     "text": [
      "{'id': 'db1da51d03258bed', 'message': 'Deployment scheduled.', 'deployment_url': '', 'status': <Status.UNKNOWN: 'UNKNOWN'>, 'ttl': None}\n"
     ]
    }
   ],
   "source": [
    "response = ai_core_client.deployment.create(\n",
    "    resource_group = 'default',\n",
    "    configuration_id = conf_id # change this\n",
    ")\n",
    "print(response.__dict__)\n",
    "deploymentid=response.__dict__['id']"
   ]
  },
  {
   "cell_type": "markdown",
   "id": "aa102396",
   "metadata": {},
   "source": [
    "## Check deployment status"
   ]
  },
  {
   "cell_type": "code",
   "execution_count": 155,
   "id": "eeeeb2d5",
   "metadata": {},
   "outputs": [
    {
     "name": "stdout",
     "output_type": "stream",
     "text": [
      "Status:  Status.RUNNING\n",
      "********************************************************************************\n",
      "{'id': 'db1da51d03258bed', 'configuration_id': 'c3b21057-f75b-4e40-a6d9-13c6df94061a', 'configuration_name': 'demandresponse-autoai-withaicore', 'scenario_id': 'demandresponse-autoai', 'status': <Status.RUNNING: 'RUNNING'>, 'target_status': <TargetStatus.RUNNING: 'RUNNING'>, 'created_at': datetime.datetime(2023, 7, 16, 14, 55, 27), 'modified_at': datetime.datetime(2023, 7, 16, 14, 57, 55), 'status_message': None, 'status_details': None, 'submission_time': datetime.datetime(2023, 7, 16, 14, 56, 5), 'start_time': datetime.datetime(2023, 7, 16, 14, 57, 33), 'completion_time': None, 'deployment_url': 'https://api.ai.prod.us-east-1.aws.ml.hana.ondemand.com/v2/inference/deployments/db1da51d03258bed', 'last_operation': <Operation.CREATE: 'CREATE'>, 'latest_running_configuration_id': 'c3b21057-f75b-4e40-a6d9-13c6df94061a', 'ttl': None}\n"
     ]
    }
   ],
   "source": [
    "response = ai_core_client.deployment.get(\n",
    "    resource_group = 'default',\n",
    "    deployment_id = deploymentid # Change this\n",
    ")\n",
    "\n",
    "print(\"Status: \", response.status)\n",
    "print('*'*80)\n",
    "print(response.__dict__)\n"
   ]
  },
  {
   "cell_type": "code",
   "execution_count": 154,
   "id": "ddcf4546",
   "metadata": {
    "scrolled": true
   },
   "outputs": [
    {
     "name": "stdout",
     "output_type": "stream",
     "text": [
      "Starting\n",
      "---\n",
      "[2023-07-16 14:56:24 +0000] [7] [INFO] Starting gunicorn 20.1.0\n",
      "---\n",
      "[2023-07-16 14:56:24 +0000] [7] [INFO] Listening at: http://0.0.0.0:7000 (7)\n",
      "---\n",
      "[2023-07-16 14:56:24 +0000] [7] [INFO] Using worker: sync\n",
      "---\n",
      "[2023-07-16 14:56:24 +0000] [8] [INFO] Booting worker with pid: 8\n",
      "---\n"
     ]
    }
   ],
   "source": [
    "from ai_core_sdk.models import TargetStatus\n",
    "response=ai_core_client.deployment.query_logs(resource_group = 'default',\n",
    "    deployment_id = deploymentid)\n",
    "for log in response.data.result:\n",
    "    print(log.msg)\n",
    "    print(\"---\")"
   ]
  },
  {
   "cell_type": "markdown",
   "id": "cae7d6ba",
   "metadata": {},
   "source": [
    "## Make prediction"
   ]
  },
  {
   "cell_type": "code",
   "execution_count": 157,
   "id": "ab6c164c",
   "metadata": {},
   "outputs": [
    {
     "name": "stdout",
     "output_type": "stream",
     "text": [
      "{'predictions': [{'prediction': 0.0, 'probability': [0.9097996143111211, 0.09020038568887895]}]}\n"
     ]
    }
   ],
   "source": [
    "import requests\n",
    "\n",
    "# URL\n",
    "deployment_url = \"https://api.ai.prod.us-east-1.aws.ml.hana.ondemand.com/v2/inference/deployments/db1da51d03258bed\"\n",
    "\n",
    "# Preparing the input for inference\n",
    "test_input = {\"Headers\": [\"CUSTOMER_ID\", \"CSTFNM\", \"CSTLNM\", \"CSTPH1\", \"CSTML\",\"AGE\", \"CITY\", \"MARITAL_STATUS\", \"GENDER\", \"EDUCATION\", \"EMPLOYMENT\",\"TENURE\", \"SEGMENT\", \"HOME_SIZE\", \"ENERGY_USAGE_PER_MONTH\",\"ENERGY_EFFICIENCY\", \"IS_REGISTERED_FOR_ALERTS\", \"OWNS_HOME\",\"COMPLAINTS\", \"EST_INCOME\", \"CLTV\", \"HAS_THERMOSTAT\",\"HAS_HOME_AUTOMATION\", \"PHOTOVOLTAIC_ZONING\", \"WIND_ZONING\",\"SMART_METER_COMMENTS\", \"IS_CAR_OWNER\", \"HAS_EV\", \"HAS_PHOTOVOLTAIC\",\"HAS_WIND\", \"EBILL\", \"IN_WARRANTY\", \"STD_YRLY_USAGE\",\"MISSED_PAYMENT\", \"YEARLY_USAGE_PREDICTED\"],\"Input\": [[7, \"Elissa\", \"Corkery\", \"757-680-4340\", \"Elissa.Corkery@garret.net\", 19, \"Santa Clara\", \"S\", \"male\", \"High school graduate\", \"Employed full-time\", 45, \"Budget Payment Plan Members\", 2330, 4680, 0.498, False, True, False, 49910, 175, True, False, False, True, \"Negative\", True, False, False, False, True, True, 48148, False, 45259.1]]}\n",
    "\n",
    "endpoint = f\"{deployment_url}/v2/predict\" # endpoint implemented in serving engine\n",
    "headers = {\"Authorization\": ai_core_client.rest_client.get_token(),\n",
    "           'ai-resource-group': \"default\",\n",
    "           \"Content-Type\": \"application/json\"}\n",
    "response = requests.post(endpoint, headers=headers, json=test_input)\n",
    "\n",
    "print( response.json())"
   ]
  },
  {
   "cell_type": "code",
   "execution_count": 158,
   "id": "d186da70",
   "metadata": {},
   "outputs": [
    {
     "name": "stdout",
     "output_type": "stream",
     "text": [
      "Model is loaded.\n"
     ]
    }
   ],
   "source": [
    "import requests\n",
    "\n",
    "# URL\n",
    "deployment_url = \"https://api.ai.prod.us-east-1.aws.ml.hana.ondemand.com/v2/inference/deployments/db1da51d03258bed\"\n",
    "\n",
    "\n",
    "endpoint = f\"{deployment_url}/v2/greet\" # endpoint implemented in serving engine\n",
    "headers = {\"Authorization\": ai_core_client.rest_client.get_token(),\n",
    "           'ai-resource-group': \"default\"}\n",
    "response = requests.get(endpoint, headers=headers)\n",
    "\n",
    "print(response.text)"
   ]
  }
 ],
 "metadata": {
  "kernelspec": {
   "display_name": "Python 3 (ipykernel)",
   "language": "python",
   "name": "python3"
  },
  "language_info": {
   "codemirror_mode": {
    "name": "ipython",
    "version": 3
   },
   "file_extension": ".py",
   "mimetype": "text/x-python",
   "name": "python",
   "nbconvert_exporter": "python",
   "pygments_lexer": "ipython3",
   "version": "3.9.12"
  }
 },
 "nbformat": 4,
 "nbformat_minor": 5
}
