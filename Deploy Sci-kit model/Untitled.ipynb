{
 "cells": [
  {
   "cell_type": "code",
   "execution_count": 99,
   "id": "d5503d04",
   "metadata": {},
   "outputs": [
    {
     "name": "stdout",
     "output_type": "stream",
     "text": [
      "Serving Initializing\n",
      "Serving Started\n",
      " * Serving Flask app \"__main__\" (lazy loading)\n",
      " * Environment: production\n",
      "\u001b[31m   WARNING: This is a development server. Do not use it in a production deployment.\u001b[0m\n",
      "\u001b[2m   Use a production WSGI server instead.\u001b[0m\n",
      " * Debug mode: on\n"
     ]
    },
    {
     "name": "stderr",
     "output_type": "stream",
     "text": [
      " * Running on all addresses.\n",
      "   WARNING: This is a development server. Do not use it in a production deployment.\n",
      " * Running on http://192.168.1.12:1212/ (Press CTRL+C to quit)\n",
      " * Restarting with watchdog (fsevents)\n",
      "Traceback (most recent call last):\n",
      "  File \"/Users/vikrambhat/opt/anaconda3/lib/python3.9/site-packages/ipykernel_launcher.py\", line 16, in <module>\n",
      "    app.launch_new_instance()\n",
      "  File \"/Users/vikrambhat/opt/anaconda3/lib/python3.9/site-packages/traitlets/config/application.py\", line 845, in launch_instance\n",
      "    app.initialize(argv)\n",
      "  File \"/Users/vikrambhat/opt/anaconda3/lib/python3.9/site-packages/traitlets/config/application.py\", line 88, in inner\n",
      "    return method(app, *args, **kwargs)\n",
      "  File \"/Users/vikrambhat/opt/anaconda3/lib/python3.9/site-packages/ipykernel/kernelapp.py\", line 632, in initialize\n",
      "    self.init_sockets()\n",
      "  File \"/Users/vikrambhat/opt/anaconda3/lib/python3.9/site-packages/ipykernel/kernelapp.py\", line 282, in init_sockets\n",
      "    self.shell_port = self._bind_socket(self.shell_socket, self.shell_port)\n",
      "  File \"/Users/vikrambhat/opt/anaconda3/lib/python3.9/site-packages/ipykernel/kernelapp.py\", line 229, in _bind_socket\n",
      "    return self._try_bind_socket(s, port)\n",
      "  File \"/Users/vikrambhat/opt/anaconda3/lib/python3.9/site-packages/ipykernel/kernelapp.py\", line 205, in _try_bind_socket\n",
      "    s.bind(\"tcp://%s:%i\" % (self.ip, port))\n",
      "  File \"/Users/vikrambhat/opt/anaconda3/lib/python3.9/site-packages/zmq/sugar/socket.py\", line 214, in bind\n",
      "    super().bind(addr)\n",
      "  File \"zmq/backend/cython/socket.pyx\", line 540, in zmq.backend.cython.socket.Socket.bind\n",
      "  File \"zmq/backend/cython/checkrc.pxd\", line 28, in zmq.backend.cython.checkrc._check_rc\n",
      "zmq.error.ZMQError: Address already in use\n"
     ]
    },
    {
     "ename": "SystemExit",
     "evalue": "1",
     "output_type": "error",
     "traceback": [
      "An exception has occurred, use %tb to see the full traceback.\n",
      "\u001b[0;31mSystemExit\u001b[0m\u001b[0;31m:\u001b[0m 1\n"
     ]
    }
   ],
   "source": [
    "from flask import Flask, jsonify, request\n",
    "import pandas as pd\n",
    "import joblib\n",
    "import pickle\n",
    "import autoai_libs\n",
    "\n",
    "# load model\n",
    "model = joblib.load(\"auto-ai-pipeline.pickle\")\n",
    "\n",
    "app = Flask(__name__)\n",
    "#port = int(os.getenv(\"PORT\", 9009))\n",
    "\n",
    "@app.route(\"/v2/greet\", methods=[\"GET\"])\n",
    "def status():\n",
    "    global model\n",
    "    if model is None:\n",
    "        return \"Flask Code: Model was not loaded.\"\n",
    "    else:\n",
    "        return \"Model is loaded.\"\n",
    "    \n",
    "@app.route(\"/v2/predict\", methods=[\"POST\"])\n",
    "def predict():\n",
    "    global model\n",
    "    df_raw=pd.DataFrame(payload['Input'])\n",
    "    result=model.predict_proba(df_raw.tail(1).values)\n",
    "    output = {'results': result[0].tolist()[0]}\n",
    "    return jsonify(results=output)\n",
    "\n",
    "\n",
    "if __name__ == \"__main__\":\n",
    "    print(\"Serving Initializing\")\n",
    "    print(\"Serving Started\")\n",
    "    app.run(host=\"0.0.0.0\", debug=True, port=1212)"
   ]
  },
  {
   "cell_type": "code",
   "execution_count": 68,
   "id": "9d7b6f3a",
   "metadata": {},
   "outputs": [
    {
     "name": "stdout",
     "output_type": "stream",
     "text": [
      "3.9.12 (main, Apr  5 2022, 01:53:17) \n",
      "[Clang 12.0.0 ]\n"
     ]
    }
   ],
   "source": [
    "print(sys.version)"
   ]
  },
  {
   "cell_type": "code",
   "execution_count": 63,
   "id": "1563849c",
   "metadata": {},
   "outputs": [
    {
     "data": {
      "text/plain": [
       "0.9097996143111211"
      ]
     },
     "execution_count": 63,
     "metadata": {},
     "output_type": "execute_result"
    }
   ],
   "source": [
    "result[0].tolist()[0]"
   ]
  },
  {
   "cell_type": "code",
   "execution_count": 26,
   "id": "c2dbfeaf",
   "metadata": {},
   "outputs": [
    {
     "name": "stdout",
     "output_type": "stream",
     "text": [
      "Collecting autoai-libs==1.13.4\n",
      "  Downloading autoai_libs-1.13.4-48-cp39-cp39-macosx_10_9_x86_64.whl (1.6 MB)\n",
      "\u001b[K     |████████████████████████████████| 1.6 MB 5.4 MB/s eta 0:00:01\n",
      "\u001b[?25hRequirement already satisfied: importlib-metadata in /Users/vikrambhat/opt/anaconda3/lib/python3.9/site-packages (from autoai-libs==1.13.4) (4.11.3)\n",
      "Collecting pandas<1.4,>=0.24.2\n",
      "  Downloading pandas-1.3.5-cp39-cp39-macosx_10_9_x86_64.whl (11.3 MB)\n",
      "\u001b[K     |████████████████████████████████| 11.3 MB 180 kB/s eta 0:00:01    |█████████████████████           | 7.4 MB 5.3 MB/s eta 0:00:01\n",
      "\u001b[?25hRequirement already satisfied: packaging in /Users/vikrambhat/opt/anaconda3/lib/python3.9/site-packages (from autoai-libs==1.13.4) (21.3)\n",
      "Requirement already satisfied: numpy<1.22,>=1.19.2 in /Users/vikrambhat/opt/anaconda3/lib/python3.9/site-packages (from autoai-libs==1.13.4) (1.21.5)\n",
      "Requirement already satisfied: gensim==4.1.2 in /Users/vikrambhat/opt/anaconda3/lib/python3.9/site-packages (from autoai-libs==1.13.4) (4.1.2)\n",
      "Requirement already satisfied: scikit-learn<1.1,>=0.20.3 in /Users/vikrambhat/opt/anaconda3/lib/python3.9/site-packages (from autoai-libs==1.13.4) (1.0.2)\n",
      "Requirement already satisfied: psutil in /Users/vikrambhat/opt/anaconda3/lib/python3.9/site-packages (from autoai-libs==1.13.4) (5.8.0)\n",
      "Requirement already satisfied: smart-open>=1.8.1 in /Users/vikrambhat/opt/anaconda3/lib/python3.9/site-packages (from gensim==4.1.2->autoai-libs==1.13.4) (5.1.0)\n",
      "Requirement already satisfied: scipy>=0.18.1 in /Users/vikrambhat/opt/anaconda3/lib/python3.9/site-packages (from gensim==4.1.2->autoai-libs==1.13.4) (1.7.3)\n",
      "Requirement already satisfied: pytz>=2017.3 in /Users/vikrambhat/opt/anaconda3/lib/python3.9/site-packages (from pandas<1.4,>=0.24.2->autoai-libs==1.13.4) (2021.3)\n",
      "Requirement already satisfied: python-dateutil>=2.7.3 in /Users/vikrambhat/opt/anaconda3/lib/python3.9/site-packages (from pandas<1.4,>=0.24.2->autoai-libs==1.13.4) (2.8.2)\n",
      "Requirement already satisfied: six>=1.5 in /Users/vikrambhat/opt/anaconda3/lib/python3.9/site-packages (from python-dateutil>=2.7.3->pandas<1.4,>=0.24.2->autoai-libs==1.13.4) (1.16.0)\n",
      "Requirement already satisfied: joblib>=0.11 in /Users/vikrambhat/opt/anaconda3/lib/python3.9/site-packages (from scikit-learn<1.1,>=0.20.3->autoai-libs==1.13.4) (1.1.0)\n",
      "Requirement already satisfied: threadpoolctl>=2.0.0 in /Users/vikrambhat/opt/anaconda3/lib/python3.9/site-packages (from scikit-learn<1.1,>=0.20.3->autoai-libs==1.13.4) (2.2.0)\n",
      "Requirement already satisfied: zipp>=0.5 in /Users/vikrambhat/opt/anaconda3/lib/python3.9/site-packages (from importlib-metadata->autoai-libs==1.13.4) (3.7.0)\n",
      "Requirement already satisfied: pyparsing!=3.0.5,>=2.0.2 in /Users/vikrambhat/opt/anaconda3/lib/python3.9/site-packages (from packaging->autoai-libs==1.13.4) (3.0.4)\n",
      "Installing collected packages: pandas, autoai-libs\n",
      "  Attempting uninstall: pandas\n",
      "    Found existing installation: pandas 1.4.2\n",
      "    Uninstalling pandas-1.4.2:\n",
      "      Successfully uninstalled pandas-1.4.2\n",
      "Successfully installed autoai-libs-1.13.4 pandas-1.3.5\n"
     ]
    }
   ],
   "source": [
    "!pip install autoai-libs==1.13.4"
   ]
  },
  {
   "cell_type": "code",
   "execution_count": 71,
   "id": "f5234edb",
   "metadata": {},
   "outputs": [],
   "source": [
    "import joblib\n",
    "model = joblib.load(\"scikit_model.pkl\")"
   ]
  },
  {
   "cell_type": "code",
   "execution_count": null,
   "id": "0760c568",
   "metadata": {},
   "outputs": [],
   "source": [
    "from flask import Flask, jsonify, request\n",
    "import pandas as pd\n",
    "import joblib\n",
    "import pickle\n",
    "import subprocess\n",
    "import sys\n",
    "import autoai_libs\n",
    "\n",
    "# load model\n",
    "model = joblib.load(\"scikit_model.pkl\")\n",
    "\n",
    "app = Flask(__name__)\n",
    "#port = int(os.getenv(\"PORT\", 9009))\n",
    "\n",
    "@app.route(\"/v2/greet\", methods=[\"GET\"])\n",
    "def status():\n",
    "    global model\n",
    "    if model is None:\n",
    "        return \"Flask Code: Model was not loaded.\"\n",
    "    else:\n",
    "        return \"Model is loaded.\"\n",
    "    \n",
    "@app.route(\"/v2/predict\", methods=[\"POST\"])\n",
    "def predict(payload):\n",
    "    global model\n",
    "    cols=[]\n",
    "    for i in range(0,3):\n",
    "        columns=model.named_steps['preprocessor'].transformers_[i][2]\n",
    "        cols = cols+columns\n",
    "    df=pd.DataFrame(payload['Input'],columns=payload['Headers'])\n",
    "    df_score=df[cols].copy()\n",
    "    result=model.predict_proba(df_score)\n",
    "    output = {'results': result[0].tolist()[0]}\n",
    "    return jsonify(results=output)\n",
    "\n",
    "\n",
    "if __name__ == \"__main__\":\n",
    "    print(\"Serving Initializing\")\n",
    "    print(\"Serving Started\")\n",
    "    app.run(host=\"0.0.0.0\", debug=True, port=3000)\n",
    "    \n",
    "    \n",
    "    \n",
    "\n",
    "\n",
    "\n",
    "\n"
   ]
  },
  {
   "cell_type": "code",
   "execution_count": 74,
   "id": "969d5fc0",
   "metadata": {},
   "outputs": [
    {
     "data": {
      "text/plain": [
       "array([[0.23679219, 0.76320781]])"
      ]
     },
     "execution_count": 74,
     "metadata": {},
     "output_type": "execute_result"
    }
   ],
   "source": []
  },
  {
   "cell_type": "code",
   "execution_count": 33,
   "id": "ed60cada",
   "metadata": {},
   "outputs": [],
   "source": [
    "payload={\"Headers\": [\"CUSTOMER_ID\", \"CSTFNM\", \"CSTLNM\", \"CSTPH1\", \"CSTML\",\"AGE\", \"CITY\", \"MARITAL_STATUS\", \"GENDER\", \"EDUCATION\", \"EMPLOYMENT\",\"TENURE\", \"SEGMENT\", \"HOME_SIZE\", \"ENERGY_USAGE_PER_MONTH\",\"ENERGY_EFFICIENCY\", \"IS_REGISTERED_FOR_ALERTS\", \"OWNS_HOME\",\"COMPLAINTS\", \"EST_INCOME\", \"CLTV\", \"HAS_THERMOSTAT\",\"HAS_HOME_AUTOMATION\", \"PHOTOVOLTAIC_ZONING\", \"WIND_ZONING\",\"SMART_METER_COMMENTS\", \"IS_CAR_OWNER\", \"HAS_EV\", \"HAS_PHOTOVOLTAIC\",\"HAS_WIND\", \"EBILL\", \"IN_WARRANTY\", \"STD_YRLY_USAGE\",\"MISSED_PAYMENT\", \"YEARLY_USAGE_PREDICTED\"],\"Input\": [[7, \"Elissa\", \"Corkery\", \"757-680-4340\", \"Elissa.Corkery@garret.net\", 19, \"Santa Clara\", \"S\", \"male\", \"High school graduate\", \"Employed full-time\", 45, \"Budget Payment Plan Members\", 2330, 4680, 0.498, False, True, False, 49910, 175, True, False, False, True, \"Negative\", True, False, False, False, True, True, 48148, False, 45259.1]]\n",
    "}"
   ]
  },
  {
   "cell_type": "code",
   "execution_count": 50,
   "id": "bb9d4551",
   "metadata": {},
   "outputs": [],
   "source": [
    "df_raw=pd.DataFrame(payload['Input'])\n",
    "result=model.predict_proba(df_raw.tail(1).values)"
   ]
  },
  {
   "cell_type": "code",
   "execution_count": 51,
   "id": "0d07be73",
   "metadata": {},
   "outputs": [
    {
     "data": {
      "text/plain": [
       "array([0.90979961, 0.09020039])"
      ]
     },
     "execution_count": 51,
     "metadata": {},
     "output_type": "execute_result"
    }
   ],
   "source": []
  },
  {
   "cell_type": "code",
   "execution_count": 105,
   "id": "0b909061",
   "metadata": {},
   "outputs": [
    {
     "ename": "FileNotFoundError",
     "evalue": "[Errno 2] No such file or directory: 'pickle_model.pkl'",
     "output_type": "error",
     "traceback": [
      "\u001b[0;31m---------------------------------------------------------------------------\u001b[0m",
      "\u001b[0;31mFileNotFoundError\u001b[0m                         Traceback (most recent call last)",
      "Input \u001b[0;32mIn [105]\u001b[0m, in \u001b[0;36m<cell line: 7>\u001b[0;34m()\u001b[0m\n\u001b[1;32m      4\u001b[0m \u001b[38;5;28;01mimport\u001b[39;00m \u001b[38;5;21;01mos\u001b[39;00m\n\u001b[1;32m      6\u001b[0m \u001b[38;5;66;03m# load model\u001b[39;00m\n\u001b[0;32m----> 7\u001b[0m model \u001b[38;5;241m=\u001b[39m pickle\u001b[38;5;241m.\u001b[39mload(\u001b[38;5;28;43mopen\u001b[39;49m\u001b[43m(\u001b[49m\u001b[38;5;124;43m'\u001b[39;49m\u001b[38;5;124;43mpickle_model.pkl\u001b[39;49m\u001b[38;5;124;43m'\u001b[39;49m\u001b[43m,\u001b[49m\u001b[38;5;124;43m'\u001b[39;49m\u001b[38;5;124;43mrb\u001b[39;49m\u001b[38;5;124;43m'\u001b[39;49m\u001b[43m)\u001b[49m)\n\u001b[1;32m      9\u001b[0m \u001b[38;5;66;03m# app\u001b[39;00m\n\u001b[1;32m     10\u001b[0m app \u001b[38;5;241m=\u001b[39m Flask(\u001b[38;5;18m__name__\u001b[39m)\n",
      "\u001b[0;31mFileNotFoundError\u001b[0m: [Errno 2] No such file or directory: 'pickle_model.pkl'"
     ]
    }
   ],
   "source": [
    "import pandas as pd\n",
    "from flask import Flask, jsonify, request\n",
    "import pickle\n",
    "import os\n",
    "\n",
    "# load model\n",
    "model = pickle.load(open('pickle_model.pkl','rb'))\n",
    "\n",
    "# app\n",
    "app = Flask(__name__)\n",
    "port = int(os.getenv(\"PORT\", 9009))\n",
    "\n",
    "# routes\n",
    "@app.route('/', methods=['POST'])\n",
    "\n",
    "def predict():\n",
    "    # get data\n",
    "    data = request.get_json(force=True)\n",
    "\n",
    "    # convert data into dataframe\n",
    "    data.update((x, [y]) for x, y in data.items())\n",
    "    data_df = pd.DataFrame.from_dict(data)\n",
    "\n",
    "    # predictions\n",
    "    result = model.predict(data_df)\n",
    "\n",
    "    # send back to browser\n",
    "    output = {'results': int(result[0])}\n",
    "\n",
    "    # return data\n",
    "    return jsonify(results=output)\n",
    "\n",
    "if __name__ == '__main__':\n",
    "    app.run(host='0.0.0.0',port=port, debug=True)"
   ]
  },
  {
   "cell_type": "code",
   "execution_count": 104,
   "id": "fe95e448",
   "metadata": {},
   "outputs": [
    {
     "data": {
      "text/plain": [
       "{'Headers': ['CUSTOMER_ID',\n",
       "  'CSTFNM',\n",
       "  'CSTLNM',\n",
       "  'CSTPH1',\n",
       "  'CSTML',\n",
       "  'AGE',\n",
       "  'CITY',\n",
       "  'MARITAL_STATUS',\n",
       "  'GENDER',\n",
       "  'EDUCATION',\n",
       "  'EMPLOYMENT',\n",
       "  'TENURE',\n",
       "  'SEGMENT',\n",
       "  'HOME_SIZE',\n",
       "  'ENERGY_USAGE_PER_MONTH',\n",
       "  'ENERGY_EFFICIENCY',\n",
       "  'IS_REGISTERED_FOR_ALERTS',\n",
       "  'OWNS_HOME',\n",
       "  'COMPLAINTS',\n",
       "  'EST_INCOME',\n",
       "  'CLTV',\n",
       "  'HAS_THERMOSTAT',\n",
       "  'HAS_HOME_AUTOMATION',\n",
       "  'PHOTOVOLTAIC_ZONING',\n",
       "  'WIND_ZONING',\n",
       "  'SMART_METER_COMMENTS',\n",
       "  'IS_CAR_OWNER',\n",
       "  'HAS_EV',\n",
       "  'HAS_PHOTOVOLTAIC',\n",
       "  'HAS_WIND',\n",
       "  'EBILL',\n",
       "  'IN_WARRANTY',\n",
       "  'STD_YRLY_USAGE',\n",
       "  'MISSED_PAYMENT',\n",
       "  'YEARLY_USAGE_PREDICTED'],\n",
       " 'Input': [[7,\n",
       "   'Elissa',\n",
       "   'Corkery',\n",
       "   '757-680-4340',\n",
       "   'Elissa.Corkery@garret.net',\n",
       "   19,\n",
       "   'Santa Clara',\n",
       "   'S',\n",
       "   'male',\n",
       "   'High school graduate',\n",
       "   'Employed full-time',\n",
       "   45,\n",
       "   'Budget Payment Plan Members',\n",
       "   2330,\n",
       "   4680,\n",
       "   0.498,\n",
       "   False,\n",
       "   True,\n",
       "   False,\n",
       "   49910,\n",
       "   175,\n",
       "   True,\n",
       "   False,\n",
       "   False,\n",
       "   True,\n",
       "   'Negative',\n",
       "   True,\n",
       "   False,\n",
       "   False,\n",
       "   False,\n",
       "   True,\n",
       "   True,\n",
       "   48148,\n",
       "   False,\n",
       "   45259.1]]}"
      ]
     },
     "execution_count": 104,
     "metadata": {},
     "output_type": "execute_result"
    }
   ],
   "source": [
    "data"
   ]
  },
  {
   "cell_type": "code",
   "execution_count": 130,
   "id": "5164e4a9",
   "metadata": {},
   "outputs": [
    {
     "data": {
      "text/plain": [
       "'{\"results\":0.23679218633495586}\\n'"
      ]
     },
     "execution_count": 130,
     "metadata": {},
     "output_type": "execute_result"
    }
   ],
   "source": [
    "import requests\n",
    "import json\n",
    "headers = {\n",
    "    'Content-Type': 'application/json',\n",
    "}\n",
    "\n",
    "data = {\"Headers\": [\"CUSTOMER_ID\", \"CSTFNM\", \"CSTLNM\", \"CSTPH1\", \"CSTML\",\"AGE\", \"CITY\", \"MARITAL_STATUS\", \"GENDER\", \"EDUCATION\", \"EMPLOYMENT\",\"TENURE\", \"SEGMENT\", \"HOME_SIZE\", \"ENERGY_USAGE_PER_MONTH\",\"ENERGY_EFFICIENCY\", \"IS_REGISTERED_FOR_ALERTS\", \"OWNS_HOME\",\"COMPLAINTS\", \"EST_INCOME\", \"CLTV\", \"HAS_THERMOSTAT\",\"HAS_HOME_AUTOMATION\", \"PHOTOVOLTAIC_ZONING\", \"WIND_ZONING\",\"SMART_METER_COMMENTS\", \"IS_CAR_OWNER\", \"HAS_EV\", \"HAS_PHOTOVOLTAIC\",\"HAS_WIND\", \"EBILL\", \"IN_WARRANTY\", \"STD_YRLY_USAGE\",\"MISSED_PAYMENT\", \"YEARLY_USAGE_PREDICTED\"],\"Input\": [[7, \"Elissa\", \"Corkery\", \"757-680-4340\", \"Elissa.Corkery@garret.net\", 19, \"Santa Clara\", \"S\", \"male\", \"High school graduate\", \"Employed full-time\", 45, \"Budget Payment Plan Members\", 2330, 4680, 0.498, False, True, False, 49910, 175, True, False, False, True, \"Negative\", True, False, False, False, True, True, 48148, False, 45259.1]]}\n",
    "\n",
    "response = requests.post('http://0.0.0.0:3000/v2/predict', headers=headers, json=data)\n",
    "\n",
    "response.text\n"
   ]
  },
  {
   "cell_type": "code",
   "execution_count": 131,
   "id": "f2b63419",
   "metadata": {},
   "outputs": [
    {
     "data": {
      "text/plain": [
       "{'results': 0.23679218633495586}"
      ]
     },
     "execution_count": 131,
     "metadata": {},
     "output_type": "execute_result"
    }
   ],
   "source": [
    "json.loads(response.text)"
   ]
  },
  {
   "cell_type": "code",
   "execution_count": 133,
   "id": "723da04e",
   "metadata": {},
   "outputs": [
    {
     "data": {
      "text/plain": [
       "'Model is loaded.'"
      ]
     },
     "execution_count": 133,
     "metadata": {},
     "output_type": "execute_result"
    }
   ],
   "source": [
    "response = requests.get('http://0.0.0.0:3000/v2/greet')\n",
    "response.text"
   ]
  },
  {
   "cell_type": "code",
   "execution_count": 134,
   "id": "7462df15",
   "metadata": {},
   "outputs": [
    {
     "data": {
      "text/plain": [
       "'Hello from Vikram!'"
      ]
     },
     "execution_count": 134,
     "metadata": {},
     "output_type": "execute_result"
    }
   ],
   "source": [
    "response = requests.get('http://0.0.0.0:3000')\n",
    "response.text"
   ]
  },
  {
   "cell_type": "code",
   "execution_count": null,
   "id": "46b6dbf5",
   "metadata": {},
   "outputs": [],
   "source": [
    "curl --location --request POST \"$AI_API_URL/v2/admin/dockerRegistrySecrets\" --header \"Authorization: Bearer $TOKEN\" --header 'Content-Type: application/json' --data-raw {\"name\": \"mydockerregistry\",\"data\": {\".dockerconfigjson\": \"{\\\"auths\\\": {\\\"my.docker.repositories.io\\\": {\\\"username\\\":\\\"$USERNAME\\\", \\\"password\\\": \\\"$PWD\\\"}}}\"}}\n"
   ]
  }
 ],
 "metadata": {
  "kernelspec": {
   "display_name": "Python 3 (ipykernel)",
   "language": "python",
   "name": "python3"
  },
  "language_info": {
   "codemirror_mode": {
    "name": "ipython",
    "version": 3
   },
   "file_extension": ".py",
   "mimetype": "text/x-python",
   "name": "python",
   "nbconvert_exporter": "python",
   "pygments_lexer": "ipython3",
   "version": "3.9.12"
  }
 },
 "nbformat": 4,
 "nbformat_minor": 5
}
