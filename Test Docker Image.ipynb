{
 "cells": [
  {
   "cell_type": "code",
   "execution_count": 130,
   "id": "eef8a5f2",
   "metadata": {},
   "outputs": [],
   "source": [
    "import requests"
   ]
  },
  {
   "cell_type": "code",
   "execution_count": 134,
   "id": "26745aac",
   "metadata": {},
   "outputs": [
    {
     "name": "stdout",
     "output_type": "stream",
     "text": [
      "This REST API call predicts the demand response of a customer.\n",
      "Use POST /v2/predict with your payload to make predictions. \n",
      "Use POST /v2/predict_and_log with your payload to make predictions and then store request and response data to payload logging and feedback logging tables!\n",
      "Use POST /v2/feedback_logging with your payload and response to load data into Watson OpenScales feedback_logging table!\n",
      "Use POST /v2/payload_logging with your payload to load data and response into Watson OpenScales payload_logging table!\n"
     ]
    }
   ],
   "source": [
    "url='http://0.0.0.0:8080'\n",
    "\n",
    "response = requests.get(url)\n",
    "print(response.text)"
   ]
  },
  {
   "cell_type": "code",
   "execution_count": 135,
   "id": "bc3e870d",
   "metadata": {},
   "outputs": [
    {
     "name": "stdout",
     "output_type": "stream",
     "text": [
      "{'predictions': [{'fields': ['prediction', 'probability'], 'values': [[0, [0.741059578143922, 0.258940421856078]]]}]}\n"
     ]
    }
   ],
   "source": [
    "test_input={'input_data': [{'fields': ['CUSTOMER_ID','CSTFNM','CSTLNM','CSTPH1','CSTML','AGE','CITY','MARITAL_STATUS','GENDER','EDUCATION','EMPLOYMENT','TENURE','SEGMENT','HOME_SIZE','ENERGY_USAGE_PER_MONTH','ENERGY_EFFICIENCY','IS_REGISTERED_FOR_ALERTS','OWNS_HOME','COMPLAINTS','EST_INCOME','CLTV','HAS_THERMOSTAT','HAS_HOME_AUTOMATION','PHOTOVOLTAIC_ZONING','WIND_ZONING','SMART_METER_COMMENTS','IS_CAR_OWNER','HAS_EV','HAS_PHOTOVOLTAIC','HAS_WIND','EBILL','IN_WARRANTY','STD_YRLY_USAGE','MISSED_PAYMENT','YEARLY_USAGE_PREDICTED'],\n",
    "   'values': [[1,'Leonor','Cummerata','781-757-3537','Leonor.Cummerata@nola.biz',44,'Mountain View','S','male','Associate degree','Employed full-time',13,'Green Advocate',1980,5080,0.39,True,True,False,47870,352.0,True,False,True,False,'Negative',True,True,True,False,False,True,56049,False,59972.4]]}]}\n",
    "   \n",
    "endpoint = url+\"/v2/predict\" # endpoint implemented in serving engine\n",
    "\n",
    "response = requests.post(endpoint, json=test_input)\n",
    "\n",
    "print( response.json())"
   ]
  },
  {
   "cell_type": "code",
   "execution_count": 137,
   "id": "479318d8",
   "metadata": {},
   "outputs": [
    {
     "name": "stdout",
     "output_type": "stream",
     "text": [
      "{'logging_response': 'Payload Logging and Feedback logging Successful', 'model_prediction': {'predictions': [{'fields': ['prediction', 'probability'], 'values': [[0, [0.741059578143922, 0.258940421856078]], [0, [0.741059578143922, 0.258940421856078]]]}]}}\n"
     ]
    }
   ],
   "source": [
    "json_input = {'input_data': [{'fields': ['CUSTOMER_ID','CSTFNM','CSTLNM','CSTPH1','CSTML','AGE','CITY','MARITAL_STATUS','GENDER','EDUCATION','EMPLOYMENT','TENURE','SEGMENT','HOME_SIZE','ENERGY_USAGE_PER_MONTH','ENERGY_EFFICIENCY','IS_REGISTERED_FOR_ALERTS','OWNS_HOME','COMPLAINTS','EST_INCOME','CLTV','HAS_THERMOSTAT','HAS_HOME_AUTOMATION','PHOTOVOLTAIC_ZONING','WIND_ZONING','SMART_METER_COMMENTS','IS_CAR_OWNER','HAS_EV','HAS_PHOTOVOLTAIC','HAS_WIND','EBILL','IN_WARRANTY','STD_YRLY_USAGE','MISSED_PAYMENT','YEARLY_USAGE_PREDICTED','DEMAND_RESPONSE'],\n",
    "   'values': [[1,'Leonor','Cummerata','781-757-3537','Leonor.Cummerata@nola.biz',44,'Mountain View','S','male','Associate degree','Employed full-time',13,'Green Advocate',1980,5080,0.39,True,True,False,47870,352.0,True,False,True,False,'Negative',True,True,True,False,False,True,56049,False,59972.4,0],[1,'Leonor','Cummerata','781-757-3537','Leonor.Cummerata@nola.biz',44,'Mountain View','S','male','Associate degree','Employed full-time',13,'Green Advocate',1980,5080,0.39,True,True,False,47870,352.0,True,False,True,False,'Negative',True,True,True,False,False,True,56049,False,59972.4,0]]}]}\n",
    "\n",
    "endpoint = url+\"/v2/predict_and_log\" # endpoint implemented in serving engine\n",
    "\n",
    "response = requests.post(endpoint, json=json_input)\n",
    "\n",
    "print( response.json())"
   ]
  },
  {
   "cell_type": "code",
   "execution_count": null,
   "id": "085fbaca",
   "metadata": {},
   "outputs": [],
   "source": []
  }
 ],
 "metadata": {
  "kernelspec": {
   "display_name": "Python 3 (ipykernel)",
   "language": "python",
   "name": "python3"
  },
  "language_info": {
   "codemirror_mode": {
    "name": "ipython",
    "version": 3
   },
   "file_extension": ".py",
   "mimetype": "text/x-python",
   "name": "python",
   "nbconvert_exporter": "python",
   "pygments_lexer": "ipython3",
   "version": "3.9.12"
  }
 },
 "nbformat": 4,
 "nbformat_minor": 5
}
